{
  "cells": [
    {
      "cell_type": "code",
      "source": [
        "!unzip '/content/digit-recognizer.zip'"
      ],
      "metadata": {
        "colab": {
          "base_uri": "https://localhost:8080/"
        },
        "id": "AndstHA9x4zf",
        "outputId": "dab94449-b38b-4420-ea72-b44c099f306a"
      },
      "execution_count": 1,
      "outputs": [
        {
          "output_type": "stream",
          "name": "stdout",
          "text": [
            "Archive:  /content/digit-recognizer.zip\n",
            "  inflating: sample_submission.csv   \n",
            "  inflating: test.csv                \n",
            "  inflating: train.csv               \n"
          ]
        }
      ]
    },
    {
      "cell_type": "markdown",
      "source": [],
      "metadata": {
        "id": "G65lBQArGV_o"
      }
    },
    {
      "cell_type": "markdown",
      "source": [
        "## Approach to the problem\n",
        "1. Load the Data\n",
        "2. Visualize the Data\n",
        "3. Apply the Models (ML, NN)\n",
        "4. Evalute the model perfromance and discuss in detail\n",
        "5. Move the Best Performing model to Production\n"
      ],
      "metadata": {
        "id": "JJilyEdAFqWH"
      }
    },
    {
      "cell_type": "markdown",
      "source": [
        "# Load Data and Libraries"
      ],
      "metadata": {
        "id": "f6I1OuMlGn8G"
      }
    },
    {
      "cell_type": "markdown",
      "source": [
        "Load Libraries\n"
      ],
      "metadata": {
        "id": "jN0UyTLuHkE8"
      }
    },
    {
      "cell_type": "code",
      "source": [
        "import pandas as pd\n",
        "import numpy as np\n",
        "import matplotlib.pyplot as plt\n",
        "import seaborn as sns\n",
        "from sklearn.model_selection import train_test_split\n",
        "from sklearn.ensemble import RandomForestClassifier # Standard ML Model\n",
        "from sklearn.metrics import accuracy_score, confusion_matrix, classification_report\n",
        "from sklearn.linear_model import Perceptron # Neural Network Model"
      ],
      "metadata": {
        "id": "3A2IKXQkyNlo"
      },
      "execution_count": 2,
      "outputs": []
    },
    {
      "cell_type": "markdown",
      "source": [
        "Load Data\n"
      ],
      "metadata": {
        "id": "eQ08sdjnHrtE"
      }
    },
    {
      "cell_type": "code",
      "source": [
        "train = pd.read_csv('/content/train.csv')\n",
        "test = pd.read_csv('/content/test.csv')"
      ],
      "metadata": {
        "id": "2S2qRc25GThF"
      },
      "execution_count": 3,
      "outputs": []
    },
    {
      "cell_type": "markdown",
      "source": [
        "Check the Data"
      ],
      "metadata": {
        "id": "qWAxfD_HI5RZ"
      }
    },
    {
      "cell_type": "code",
      "source": [
        "train.info()"
      ],
      "metadata": {
        "id": "im-xXWRHHzkE",
        "colab": {
          "base_uri": "https://localhost:8080/"
        },
        "outputId": "d74de2f3-a0b9-4ed2-f4ef-011a328d033e"
      },
      "execution_count": 4,
      "outputs": [
        {
          "output_type": "stream",
          "name": "stdout",
          "text": [
            "<class 'pandas.core.frame.DataFrame'>\n",
            "RangeIndex: 42000 entries, 0 to 41999\n",
            "Columns: 785 entries, label to pixel783\n",
            "dtypes: int64(785)\n",
            "memory usage: 251.5 MB\n"
          ]
        }
      ]
    },
    {
      "cell_type": "code",
      "source": [
        "train.isna().sum()"
      ],
      "metadata": {
        "id": "alK6OLs7JY4H",
        "colab": {
          "base_uri": "https://localhost:8080/"
        },
        "outputId": "dd2e91a4-c7e3-43db-8f6d-ccedbc46fae8"
      },
      "execution_count": 5,
      "outputs": [
        {
          "output_type": "execute_result",
          "data": {
            "text/plain": [
              "label       0\n",
              "pixel0      0\n",
              "pixel1      0\n",
              "pixel2      0\n",
              "pixel3      0\n",
              "           ..\n",
              "pixel779    0\n",
              "pixel780    0\n",
              "pixel781    0\n",
              "pixel782    0\n",
              "pixel783    0\n",
              "Length: 785, dtype: int64"
            ]
          },
          "metadata": {},
          "execution_count": 5
        }
      ]
    },
    {
      "cell_type": "markdown",
      "source": [
        "Cannot do anything even if we have missing data as it is Unstructured data"
      ],
      "metadata": {
        "id": "79NA0geHJ7Pg"
      }
    },
    {
      "cell_type": "code",
      "source": [
        "train.shape"
      ],
      "metadata": {
        "id": "X7_O68qYKAuV",
        "colab": {
          "base_uri": "https://localhost:8080/"
        },
        "outputId": "1e410e4f-cd49-4c24-f96b-8bdcab097f2c"
      },
      "execution_count": 6,
      "outputs": [
        {
          "output_type": "execute_result",
          "data": {
            "text/plain": [
              "(42000, 785)"
            ]
          },
          "metadata": {},
          "execution_count": 6
        }
      ]
    },
    {
      "cell_type": "code",
      "source": [
        "train.head()"
      ],
      "metadata": {
        "id": "suNx_OOk6ysK",
        "colab": {
          "base_uri": "https://localhost:8080/",
          "height": 255
        },
        "outputId": "435672cc-fed2-4388-c3c5-7593fba31814"
      },
      "execution_count": 7,
      "outputs": [
        {
          "output_type": "execute_result",
          "data": {
            "text/plain": [
              "   label  pixel0  pixel1  pixel2  pixel3  pixel4  pixel5  pixel6  pixel7  \\\n",
              "0      1       0       0       0       0       0       0       0       0   \n",
              "1      0       0       0       0       0       0       0       0       0   \n",
              "2      1       0       0       0       0       0       0       0       0   \n",
              "3      4       0       0       0       0       0       0       0       0   \n",
              "4      0       0       0       0       0       0       0       0       0   \n",
              "\n",
              "   pixel8  ...  pixel774  pixel775  pixel776  pixel777  pixel778  pixel779  \\\n",
              "0       0  ...         0         0         0         0         0         0   \n",
              "1       0  ...         0         0         0         0         0         0   \n",
              "2       0  ...         0         0         0         0         0         0   \n",
              "3       0  ...         0         0         0         0         0         0   \n",
              "4       0  ...         0         0         0         0         0         0   \n",
              "\n",
              "   pixel780  pixel781  pixel782  pixel783  \n",
              "0         0         0         0         0  \n",
              "1         0         0         0         0  \n",
              "2         0         0         0         0  \n",
              "3         0         0         0         0  \n",
              "4         0         0         0         0  \n",
              "\n",
              "[5 rows x 785 columns]"
            ],
            "text/html": [
              "\n",
              "  <div id=\"df-e5165efd-fed5-44bd-a3d0-4fd294a587dd\" class=\"colab-df-container\">\n",
              "    <div>\n",
              "<style scoped>\n",
              "    .dataframe tbody tr th:only-of-type {\n",
              "        vertical-align: middle;\n",
              "    }\n",
              "\n",
              "    .dataframe tbody tr th {\n",
              "        vertical-align: top;\n",
              "    }\n",
              "\n",
              "    .dataframe thead th {\n",
              "        text-align: right;\n",
              "    }\n",
              "</style>\n",
              "<table border=\"1\" class=\"dataframe\">\n",
              "  <thead>\n",
              "    <tr style=\"text-align: right;\">\n",
              "      <th></th>\n",
              "      <th>label</th>\n",
              "      <th>pixel0</th>\n",
              "      <th>pixel1</th>\n",
              "      <th>pixel2</th>\n",
              "      <th>pixel3</th>\n",
              "      <th>pixel4</th>\n",
              "      <th>pixel5</th>\n",
              "      <th>pixel6</th>\n",
              "      <th>pixel7</th>\n",
              "      <th>pixel8</th>\n",
              "      <th>...</th>\n",
              "      <th>pixel774</th>\n",
              "      <th>pixel775</th>\n",
              "      <th>pixel776</th>\n",
              "      <th>pixel777</th>\n",
              "      <th>pixel778</th>\n",
              "      <th>pixel779</th>\n",
              "      <th>pixel780</th>\n",
              "      <th>pixel781</th>\n",
              "      <th>pixel782</th>\n",
              "      <th>pixel783</th>\n",
              "    </tr>\n",
              "  </thead>\n",
              "  <tbody>\n",
              "    <tr>\n",
              "      <th>0</th>\n",
              "      <td>1</td>\n",
              "      <td>0</td>\n",
              "      <td>0</td>\n",
              "      <td>0</td>\n",
              "      <td>0</td>\n",
              "      <td>0</td>\n",
              "      <td>0</td>\n",
              "      <td>0</td>\n",
              "      <td>0</td>\n",
              "      <td>0</td>\n",
              "      <td>...</td>\n",
              "      <td>0</td>\n",
              "      <td>0</td>\n",
              "      <td>0</td>\n",
              "      <td>0</td>\n",
              "      <td>0</td>\n",
              "      <td>0</td>\n",
              "      <td>0</td>\n",
              "      <td>0</td>\n",
              "      <td>0</td>\n",
              "      <td>0</td>\n",
              "    </tr>\n",
              "    <tr>\n",
              "      <th>1</th>\n",
              "      <td>0</td>\n",
              "      <td>0</td>\n",
              "      <td>0</td>\n",
              "      <td>0</td>\n",
              "      <td>0</td>\n",
              "      <td>0</td>\n",
              "      <td>0</td>\n",
              "      <td>0</td>\n",
              "      <td>0</td>\n",
              "      <td>0</td>\n",
              "      <td>...</td>\n",
              "      <td>0</td>\n",
              "      <td>0</td>\n",
              "      <td>0</td>\n",
              "      <td>0</td>\n",
              "      <td>0</td>\n",
              "      <td>0</td>\n",
              "      <td>0</td>\n",
              "      <td>0</td>\n",
              "      <td>0</td>\n",
              "      <td>0</td>\n",
              "    </tr>\n",
              "    <tr>\n",
              "      <th>2</th>\n",
              "      <td>1</td>\n",
              "      <td>0</td>\n",
              "      <td>0</td>\n",
              "      <td>0</td>\n",
              "      <td>0</td>\n",
              "      <td>0</td>\n",
              "      <td>0</td>\n",
              "      <td>0</td>\n",
              "      <td>0</td>\n",
              "      <td>0</td>\n",
              "      <td>...</td>\n",
              "      <td>0</td>\n",
              "      <td>0</td>\n",
              "      <td>0</td>\n",
              "      <td>0</td>\n",
              "      <td>0</td>\n",
              "      <td>0</td>\n",
              "      <td>0</td>\n",
              "      <td>0</td>\n",
              "      <td>0</td>\n",
              "      <td>0</td>\n",
              "    </tr>\n",
              "    <tr>\n",
              "      <th>3</th>\n",
              "      <td>4</td>\n",
              "      <td>0</td>\n",
              "      <td>0</td>\n",
              "      <td>0</td>\n",
              "      <td>0</td>\n",
              "      <td>0</td>\n",
              "      <td>0</td>\n",
              "      <td>0</td>\n",
              "      <td>0</td>\n",
              "      <td>0</td>\n",
              "      <td>...</td>\n",
              "      <td>0</td>\n",
              "      <td>0</td>\n",
              "      <td>0</td>\n",
              "      <td>0</td>\n",
              "      <td>0</td>\n",
              "      <td>0</td>\n",
              "      <td>0</td>\n",
              "      <td>0</td>\n",
              "      <td>0</td>\n",
              "      <td>0</td>\n",
              "    </tr>\n",
              "    <tr>\n",
              "      <th>4</th>\n",
              "      <td>0</td>\n",
              "      <td>0</td>\n",
              "      <td>0</td>\n",
              "      <td>0</td>\n",
              "      <td>0</td>\n",
              "      <td>0</td>\n",
              "      <td>0</td>\n",
              "      <td>0</td>\n",
              "      <td>0</td>\n",
              "      <td>0</td>\n",
              "      <td>...</td>\n",
              "      <td>0</td>\n",
              "      <td>0</td>\n",
              "      <td>0</td>\n",
              "      <td>0</td>\n",
              "      <td>0</td>\n",
              "      <td>0</td>\n",
              "      <td>0</td>\n",
              "      <td>0</td>\n",
              "      <td>0</td>\n",
              "      <td>0</td>\n",
              "    </tr>\n",
              "  </tbody>\n",
              "</table>\n",
              "<p>5 rows × 785 columns</p>\n",
              "</div>\n",
              "    <div class=\"colab-df-buttons\">\n",
              "\n",
              "  <div class=\"colab-df-container\">\n",
              "    <button class=\"colab-df-convert\" onclick=\"convertToInteractive('df-e5165efd-fed5-44bd-a3d0-4fd294a587dd')\"\n",
              "            title=\"Convert this dataframe to an interactive table.\"\n",
              "            style=\"display:none;\">\n",
              "\n",
              "  <svg xmlns=\"http://www.w3.org/2000/svg\" height=\"24px\" viewBox=\"0 -960 960 960\">\n",
              "    <path d=\"M120-120v-720h720v720H120Zm60-500h600v-160H180v160Zm220 220h160v-160H400v160Zm0 220h160v-160H400v160ZM180-400h160v-160H180v160Zm440 0h160v-160H620v160ZM180-180h160v-160H180v160Zm440 0h160v-160H620v160Z\"/>\n",
              "  </svg>\n",
              "    </button>\n",
              "\n",
              "  <style>\n",
              "    .colab-df-container {\n",
              "      display:flex;\n",
              "      gap: 12px;\n",
              "    }\n",
              "\n",
              "    .colab-df-convert {\n",
              "      background-color: #E8F0FE;\n",
              "      border: none;\n",
              "      border-radius: 50%;\n",
              "      cursor: pointer;\n",
              "      display: none;\n",
              "      fill: #1967D2;\n",
              "      height: 32px;\n",
              "      padding: 0 0 0 0;\n",
              "      width: 32px;\n",
              "    }\n",
              "\n",
              "    .colab-df-convert:hover {\n",
              "      background-color: #E2EBFA;\n",
              "      box-shadow: 0px 1px 2px rgba(60, 64, 67, 0.3), 0px 1px 3px 1px rgba(60, 64, 67, 0.15);\n",
              "      fill: #174EA6;\n",
              "    }\n",
              "\n",
              "    .colab-df-buttons div {\n",
              "      margin-bottom: 4px;\n",
              "    }\n",
              "\n",
              "    [theme=dark] .colab-df-convert {\n",
              "      background-color: #3B4455;\n",
              "      fill: #D2E3FC;\n",
              "    }\n",
              "\n",
              "    [theme=dark] .colab-df-convert:hover {\n",
              "      background-color: #434B5C;\n",
              "      box-shadow: 0px 1px 3px 1px rgba(0, 0, 0, 0.15);\n",
              "      filter: drop-shadow(0px 1px 2px rgba(0, 0, 0, 0.3));\n",
              "      fill: #FFFFFF;\n",
              "    }\n",
              "  </style>\n",
              "\n",
              "    <script>\n",
              "      const buttonEl =\n",
              "        document.querySelector('#df-e5165efd-fed5-44bd-a3d0-4fd294a587dd button.colab-df-convert');\n",
              "      buttonEl.style.display =\n",
              "        google.colab.kernel.accessAllowed ? 'block' : 'none';\n",
              "\n",
              "      async function convertToInteractive(key) {\n",
              "        const element = document.querySelector('#df-e5165efd-fed5-44bd-a3d0-4fd294a587dd');\n",
              "        const dataTable =\n",
              "          await google.colab.kernel.invokeFunction('convertToInteractive',\n",
              "                                                    [key], {});\n",
              "        if (!dataTable) return;\n",
              "\n",
              "        const docLinkHtml = 'Like what you see? Visit the ' +\n",
              "          '<a target=\"_blank\" href=https://colab.research.google.com/notebooks/data_table.ipynb>data table notebook</a>'\n",
              "          + ' to learn more about interactive tables.';\n",
              "        element.innerHTML = '';\n",
              "        dataTable['output_type'] = 'display_data';\n",
              "        await google.colab.output.renderOutput(dataTable, element);\n",
              "        const docLink = document.createElement('div');\n",
              "        docLink.innerHTML = docLinkHtml;\n",
              "        element.appendChild(docLink);\n",
              "      }\n",
              "    </script>\n",
              "  </div>\n",
              "\n",
              "\n",
              "<div id=\"df-42abc8f9-1ae8-4f64-81bf-1fb5b08efb3d\">\n",
              "  <button class=\"colab-df-quickchart\" onclick=\"quickchart('df-42abc8f9-1ae8-4f64-81bf-1fb5b08efb3d')\"\n",
              "            title=\"Suggest charts\"\n",
              "            style=\"display:none;\">\n",
              "\n",
              "<svg xmlns=\"http://www.w3.org/2000/svg\" height=\"24px\"viewBox=\"0 0 24 24\"\n",
              "     width=\"24px\">\n",
              "    <g>\n",
              "        <path d=\"M19 3H5c-1.1 0-2 .9-2 2v14c0 1.1.9 2 2 2h14c1.1 0 2-.9 2-2V5c0-1.1-.9-2-2-2zM9 17H7v-7h2v7zm4 0h-2V7h2v10zm4 0h-2v-4h2v4z\"/>\n",
              "    </g>\n",
              "</svg>\n",
              "  </button>\n",
              "\n",
              "<style>\n",
              "  .colab-df-quickchart {\n",
              "      --bg-color: #E8F0FE;\n",
              "      --fill-color: #1967D2;\n",
              "      --hover-bg-color: #E2EBFA;\n",
              "      --hover-fill-color: #174EA6;\n",
              "      --disabled-fill-color: #AAA;\n",
              "      --disabled-bg-color: #DDD;\n",
              "  }\n",
              "\n",
              "  [theme=dark] .colab-df-quickchart {\n",
              "      --bg-color: #3B4455;\n",
              "      --fill-color: #D2E3FC;\n",
              "      --hover-bg-color: #434B5C;\n",
              "      --hover-fill-color: #FFFFFF;\n",
              "      --disabled-bg-color: #3B4455;\n",
              "      --disabled-fill-color: #666;\n",
              "  }\n",
              "\n",
              "  .colab-df-quickchart {\n",
              "    background-color: var(--bg-color);\n",
              "    border: none;\n",
              "    border-radius: 50%;\n",
              "    cursor: pointer;\n",
              "    display: none;\n",
              "    fill: var(--fill-color);\n",
              "    height: 32px;\n",
              "    padding: 0;\n",
              "    width: 32px;\n",
              "  }\n",
              "\n",
              "  .colab-df-quickchart:hover {\n",
              "    background-color: var(--hover-bg-color);\n",
              "    box-shadow: 0 1px 2px rgba(60, 64, 67, 0.3), 0 1px 3px 1px rgba(60, 64, 67, 0.15);\n",
              "    fill: var(--button-hover-fill-color);\n",
              "  }\n",
              "\n",
              "  .colab-df-quickchart-complete:disabled,\n",
              "  .colab-df-quickchart-complete:disabled:hover {\n",
              "    background-color: var(--disabled-bg-color);\n",
              "    fill: var(--disabled-fill-color);\n",
              "    box-shadow: none;\n",
              "  }\n",
              "\n",
              "  .colab-df-spinner {\n",
              "    border: 2px solid var(--fill-color);\n",
              "    border-color: transparent;\n",
              "    border-bottom-color: var(--fill-color);\n",
              "    animation:\n",
              "      spin 1s steps(1) infinite;\n",
              "  }\n",
              "\n",
              "  @keyframes spin {\n",
              "    0% {\n",
              "      border-color: transparent;\n",
              "      border-bottom-color: var(--fill-color);\n",
              "      border-left-color: var(--fill-color);\n",
              "    }\n",
              "    20% {\n",
              "      border-color: transparent;\n",
              "      border-left-color: var(--fill-color);\n",
              "      border-top-color: var(--fill-color);\n",
              "    }\n",
              "    30% {\n",
              "      border-color: transparent;\n",
              "      border-left-color: var(--fill-color);\n",
              "      border-top-color: var(--fill-color);\n",
              "      border-right-color: var(--fill-color);\n",
              "    }\n",
              "    40% {\n",
              "      border-color: transparent;\n",
              "      border-right-color: var(--fill-color);\n",
              "      border-top-color: var(--fill-color);\n",
              "    }\n",
              "    60% {\n",
              "      border-color: transparent;\n",
              "      border-right-color: var(--fill-color);\n",
              "    }\n",
              "    80% {\n",
              "      border-color: transparent;\n",
              "      border-right-color: var(--fill-color);\n",
              "      border-bottom-color: var(--fill-color);\n",
              "    }\n",
              "    90% {\n",
              "      border-color: transparent;\n",
              "      border-bottom-color: var(--fill-color);\n",
              "    }\n",
              "  }\n",
              "</style>\n",
              "\n",
              "  <script>\n",
              "    async function quickchart(key) {\n",
              "      const quickchartButtonEl =\n",
              "        document.querySelector('#' + key + ' button');\n",
              "      quickchartButtonEl.disabled = true;  // To prevent multiple clicks.\n",
              "      quickchartButtonEl.classList.add('colab-df-spinner');\n",
              "      try {\n",
              "        const charts = await google.colab.kernel.invokeFunction(\n",
              "            'suggestCharts', [key], {});\n",
              "      } catch (error) {\n",
              "        console.error('Error during call to suggestCharts:', error);\n",
              "      }\n",
              "      quickchartButtonEl.classList.remove('colab-df-spinner');\n",
              "      quickchartButtonEl.classList.add('colab-df-quickchart-complete');\n",
              "    }\n",
              "    (() => {\n",
              "      let quickchartButtonEl =\n",
              "        document.querySelector('#df-42abc8f9-1ae8-4f64-81bf-1fb5b08efb3d button');\n",
              "      quickchartButtonEl.style.display =\n",
              "        google.colab.kernel.accessAllowed ? 'block' : 'none';\n",
              "    })();\n",
              "  </script>\n",
              "</div>\n",
              "\n",
              "    </div>\n",
              "  </div>\n"
            ],
            "application/vnd.google.colaboratory.intrinsic+json": {
              "type": "dataframe",
              "variable_name": "train"
            }
          },
          "metadata": {},
          "execution_count": 7
        }
      ]
    },
    {
      "cell_type": "code",
      "source": [
        "test.shape"
      ],
      "metadata": {
        "id": "5pL9kEtS6usK",
        "colab": {
          "base_uri": "https://localhost:8080/"
        },
        "outputId": "e503ff90-5fc8-4b85-b05c-f5f5ea567a39"
      },
      "execution_count": 8,
      "outputs": [
        {
          "output_type": "execute_result",
          "data": {
            "text/plain": [
              "(28000, 784)"
            ]
          },
          "metadata": {},
          "execution_count": 8
        }
      ]
    },
    {
      "cell_type": "code",
      "source": [
        "test.head()"
      ],
      "metadata": {
        "id": "CY-hBAjJ64tb",
        "colab": {
          "base_uri": "https://localhost:8080/",
          "height": 255
        },
        "outputId": "1a819e7c-0c65-4231-b631-b3aa97cc6f55"
      },
      "execution_count": 9,
      "outputs": [
        {
          "output_type": "execute_result",
          "data": {
            "text/plain": [
              "   pixel0  pixel1  pixel2  pixel3  pixel4  pixel5  pixel6  pixel7  pixel8  \\\n",
              "0       0       0       0       0       0       0       0       0       0   \n",
              "1       0       0       0       0       0       0       0       0       0   \n",
              "2       0       0       0       0       0       0       0       0       0   \n",
              "3       0       0       0       0       0       0       0       0       0   \n",
              "4       0       0       0       0       0       0       0       0       0   \n",
              "\n",
              "   pixel9  ...  pixel774  pixel775  pixel776  pixel777  pixel778  pixel779  \\\n",
              "0       0  ...         0         0         0         0         0         0   \n",
              "1       0  ...         0         0         0         0         0         0   \n",
              "2       0  ...         0         0         0         0         0         0   \n",
              "3       0  ...         0         0         0         0         0         0   \n",
              "4       0  ...         0         0         0         0         0         0   \n",
              "\n",
              "   pixel780  pixel781  pixel782  pixel783  \n",
              "0         0         0         0         0  \n",
              "1         0         0         0         0  \n",
              "2         0         0         0         0  \n",
              "3         0         0         0         0  \n",
              "4         0         0         0         0  \n",
              "\n",
              "[5 rows x 784 columns]"
            ],
            "text/html": [
              "\n",
              "  <div id=\"df-83e9cfbd-43a3-414f-81d4-8ebd1ec02b57\" class=\"colab-df-container\">\n",
              "    <div>\n",
              "<style scoped>\n",
              "    .dataframe tbody tr th:only-of-type {\n",
              "        vertical-align: middle;\n",
              "    }\n",
              "\n",
              "    .dataframe tbody tr th {\n",
              "        vertical-align: top;\n",
              "    }\n",
              "\n",
              "    .dataframe thead th {\n",
              "        text-align: right;\n",
              "    }\n",
              "</style>\n",
              "<table border=\"1\" class=\"dataframe\">\n",
              "  <thead>\n",
              "    <tr style=\"text-align: right;\">\n",
              "      <th></th>\n",
              "      <th>pixel0</th>\n",
              "      <th>pixel1</th>\n",
              "      <th>pixel2</th>\n",
              "      <th>pixel3</th>\n",
              "      <th>pixel4</th>\n",
              "      <th>pixel5</th>\n",
              "      <th>pixel6</th>\n",
              "      <th>pixel7</th>\n",
              "      <th>pixel8</th>\n",
              "      <th>pixel9</th>\n",
              "      <th>...</th>\n",
              "      <th>pixel774</th>\n",
              "      <th>pixel775</th>\n",
              "      <th>pixel776</th>\n",
              "      <th>pixel777</th>\n",
              "      <th>pixel778</th>\n",
              "      <th>pixel779</th>\n",
              "      <th>pixel780</th>\n",
              "      <th>pixel781</th>\n",
              "      <th>pixel782</th>\n",
              "      <th>pixel783</th>\n",
              "    </tr>\n",
              "  </thead>\n",
              "  <tbody>\n",
              "    <tr>\n",
              "      <th>0</th>\n",
              "      <td>0</td>\n",
              "      <td>0</td>\n",
              "      <td>0</td>\n",
              "      <td>0</td>\n",
              "      <td>0</td>\n",
              "      <td>0</td>\n",
              "      <td>0</td>\n",
              "      <td>0</td>\n",
              "      <td>0</td>\n",
              "      <td>0</td>\n",
              "      <td>...</td>\n",
              "      <td>0</td>\n",
              "      <td>0</td>\n",
              "      <td>0</td>\n",
              "      <td>0</td>\n",
              "      <td>0</td>\n",
              "      <td>0</td>\n",
              "      <td>0</td>\n",
              "      <td>0</td>\n",
              "      <td>0</td>\n",
              "      <td>0</td>\n",
              "    </tr>\n",
              "    <tr>\n",
              "      <th>1</th>\n",
              "      <td>0</td>\n",
              "      <td>0</td>\n",
              "      <td>0</td>\n",
              "      <td>0</td>\n",
              "      <td>0</td>\n",
              "      <td>0</td>\n",
              "      <td>0</td>\n",
              "      <td>0</td>\n",
              "      <td>0</td>\n",
              "      <td>0</td>\n",
              "      <td>...</td>\n",
              "      <td>0</td>\n",
              "      <td>0</td>\n",
              "      <td>0</td>\n",
              "      <td>0</td>\n",
              "      <td>0</td>\n",
              "      <td>0</td>\n",
              "      <td>0</td>\n",
              "      <td>0</td>\n",
              "      <td>0</td>\n",
              "      <td>0</td>\n",
              "    </tr>\n",
              "    <tr>\n",
              "      <th>2</th>\n",
              "      <td>0</td>\n",
              "      <td>0</td>\n",
              "      <td>0</td>\n",
              "      <td>0</td>\n",
              "      <td>0</td>\n",
              "      <td>0</td>\n",
              "      <td>0</td>\n",
              "      <td>0</td>\n",
              "      <td>0</td>\n",
              "      <td>0</td>\n",
              "      <td>...</td>\n",
              "      <td>0</td>\n",
              "      <td>0</td>\n",
              "      <td>0</td>\n",
              "      <td>0</td>\n",
              "      <td>0</td>\n",
              "      <td>0</td>\n",
              "      <td>0</td>\n",
              "      <td>0</td>\n",
              "      <td>0</td>\n",
              "      <td>0</td>\n",
              "    </tr>\n",
              "    <tr>\n",
              "      <th>3</th>\n",
              "      <td>0</td>\n",
              "      <td>0</td>\n",
              "      <td>0</td>\n",
              "      <td>0</td>\n",
              "      <td>0</td>\n",
              "      <td>0</td>\n",
              "      <td>0</td>\n",
              "      <td>0</td>\n",
              "      <td>0</td>\n",
              "      <td>0</td>\n",
              "      <td>...</td>\n",
              "      <td>0</td>\n",
              "      <td>0</td>\n",
              "      <td>0</td>\n",
              "      <td>0</td>\n",
              "      <td>0</td>\n",
              "      <td>0</td>\n",
              "      <td>0</td>\n",
              "      <td>0</td>\n",
              "      <td>0</td>\n",
              "      <td>0</td>\n",
              "    </tr>\n",
              "    <tr>\n",
              "      <th>4</th>\n",
              "      <td>0</td>\n",
              "      <td>0</td>\n",
              "      <td>0</td>\n",
              "      <td>0</td>\n",
              "      <td>0</td>\n",
              "      <td>0</td>\n",
              "      <td>0</td>\n",
              "      <td>0</td>\n",
              "      <td>0</td>\n",
              "      <td>0</td>\n",
              "      <td>...</td>\n",
              "      <td>0</td>\n",
              "      <td>0</td>\n",
              "      <td>0</td>\n",
              "      <td>0</td>\n",
              "      <td>0</td>\n",
              "      <td>0</td>\n",
              "      <td>0</td>\n",
              "      <td>0</td>\n",
              "      <td>0</td>\n",
              "      <td>0</td>\n",
              "    </tr>\n",
              "  </tbody>\n",
              "</table>\n",
              "<p>5 rows × 784 columns</p>\n",
              "</div>\n",
              "    <div class=\"colab-df-buttons\">\n",
              "\n",
              "  <div class=\"colab-df-container\">\n",
              "    <button class=\"colab-df-convert\" onclick=\"convertToInteractive('df-83e9cfbd-43a3-414f-81d4-8ebd1ec02b57')\"\n",
              "            title=\"Convert this dataframe to an interactive table.\"\n",
              "            style=\"display:none;\">\n",
              "\n",
              "  <svg xmlns=\"http://www.w3.org/2000/svg\" height=\"24px\" viewBox=\"0 -960 960 960\">\n",
              "    <path d=\"M120-120v-720h720v720H120Zm60-500h600v-160H180v160Zm220 220h160v-160H400v160Zm0 220h160v-160H400v160ZM180-400h160v-160H180v160Zm440 0h160v-160H620v160ZM180-180h160v-160H180v160Zm440 0h160v-160H620v160Z\"/>\n",
              "  </svg>\n",
              "    </button>\n",
              "\n",
              "  <style>\n",
              "    .colab-df-container {\n",
              "      display:flex;\n",
              "      gap: 12px;\n",
              "    }\n",
              "\n",
              "    .colab-df-convert {\n",
              "      background-color: #E8F0FE;\n",
              "      border: none;\n",
              "      border-radius: 50%;\n",
              "      cursor: pointer;\n",
              "      display: none;\n",
              "      fill: #1967D2;\n",
              "      height: 32px;\n",
              "      padding: 0 0 0 0;\n",
              "      width: 32px;\n",
              "    }\n",
              "\n",
              "    .colab-df-convert:hover {\n",
              "      background-color: #E2EBFA;\n",
              "      box-shadow: 0px 1px 2px rgba(60, 64, 67, 0.3), 0px 1px 3px 1px rgba(60, 64, 67, 0.15);\n",
              "      fill: #174EA6;\n",
              "    }\n",
              "\n",
              "    .colab-df-buttons div {\n",
              "      margin-bottom: 4px;\n",
              "    }\n",
              "\n",
              "    [theme=dark] .colab-df-convert {\n",
              "      background-color: #3B4455;\n",
              "      fill: #D2E3FC;\n",
              "    }\n",
              "\n",
              "    [theme=dark] .colab-df-convert:hover {\n",
              "      background-color: #434B5C;\n",
              "      box-shadow: 0px 1px 3px 1px rgba(0, 0, 0, 0.15);\n",
              "      filter: drop-shadow(0px 1px 2px rgba(0, 0, 0, 0.3));\n",
              "      fill: #FFFFFF;\n",
              "    }\n",
              "  </style>\n",
              "\n",
              "    <script>\n",
              "      const buttonEl =\n",
              "        document.querySelector('#df-83e9cfbd-43a3-414f-81d4-8ebd1ec02b57 button.colab-df-convert');\n",
              "      buttonEl.style.display =\n",
              "        google.colab.kernel.accessAllowed ? 'block' : 'none';\n",
              "\n",
              "      async function convertToInteractive(key) {\n",
              "        const element = document.querySelector('#df-83e9cfbd-43a3-414f-81d4-8ebd1ec02b57');\n",
              "        const dataTable =\n",
              "          await google.colab.kernel.invokeFunction('convertToInteractive',\n",
              "                                                    [key], {});\n",
              "        if (!dataTable) return;\n",
              "\n",
              "        const docLinkHtml = 'Like what you see? Visit the ' +\n",
              "          '<a target=\"_blank\" href=https://colab.research.google.com/notebooks/data_table.ipynb>data table notebook</a>'\n",
              "          + ' to learn more about interactive tables.';\n",
              "        element.innerHTML = '';\n",
              "        dataTable['output_type'] = 'display_data';\n",
              "        await google.colab.output.renderOutput(dataTable, element);\n",
              "        const docLink = document.createElement('div');\n",
              "        docLink.innerHTML = docLinkHtml;\n",
              "        element.appendChild(docLink);\n",
              "      }\n",
              "    </script>\n",
              "  </div>\n",
              "\n",
              "\n",
              "<div id=\"df-470dd770-b903-465c-a33d-5327db4760cc\">\n",
              "  <button class=\"colab-df-quickchart\" onclick=\"quickchart('df-470dd770-b903-465c-a33d-5327db4760cc')\"\n",
              "            title=\"Suggest charts\"\n",
              "            style=\"display:none;\">\n",
              "\n",
              "<svg xmlns=\"http://www.w3.org/2000/svg\" height=\"24px\"viewBox=\"0 0 24 24\"\n",
              "     width=\"24px\">\n",
              "    <g>\n",
              "        <path d=\"M19 3H5c-1.1 0-2 .9-2 2v14c0 1.1.9 2 2 2h14c1.1 0 2-.9 2-2V5c0-1.1-.9-2-2-2zM9 17H7v-7h2v7zm4 0h-2V7h2v10zm4 0h-2v-4h2v4z\"/>\n",
              "    </g>\n",
              "</svg>\n",
              "  </button>\n",
              "\n",
              "<style>\n",
              "  .colab-df-quickchart {\n",
              "      --bg-color: #E8F0FE;\n",
              "      --fill-color: #1967D2;\n",
              "      --hover-bg-color: #E2EBFA;\n",
              "      --hover-fill-color: #174EA6;\n",
              "      --disabled-fill-color: #AAA;\n",
              "      --disabled-bg-color: #DDD;\n",
              "  }\n",
              "\n",
              "  [theme=dark] .colab-df-quickchart {\n",
              "      --bg-color: #3B4455;\n",
              "      --fill-color: #D2E3FC;\n",
              "      --hover-bg-color: #434B5C;\n",
              "      --hover-fill-color: #FFFFFF;\n",
              "      --disabled-bg-color: #3B4455;\n",
              "      --disabled-fill-color: #666;\n",
              "  }\n",
              "\n",
              "  .colab-df-quickchart {\n",
              "    background-color: var(--bg-color);\n",
              "    border: none;\n",
              "    border-radius: 50%;\n",
              "    cursor: pointer;\n",
              "    display: none;\n",
              "    fill: var(--fill-color);\n",
              "    height: 32px;\n",
              "    padding: 0;\n",
              "    width: 32px;\n",
              "  }\n",
              "\n",
              "  .colab-df-quickchart:hover {\n",
              "    background-color: var(--hover-bg-color);\n",
              "    box-shadow: 0 1px 2px rgba(60, 64, 67, 0.3), 0 1px 3px 1px rgba(60, 64, 67, 0.15);\n",
              "    fill: var(--button-hover-fill-color);\n",
              "  }\n",
              "\n",
              "  .colab-df-quickchart-complete:disabled,\n",
              "  .colab-df-quickchart-complete:disabled:hover {\n",
              "    background-color: var(--disabled-bg-color);\n",
              "    fill: var(--disabled-fill-color);\n",
              "    box-shadow: none;\n",
              "  }\n",
              "\n",
              "  .colab-df-spinner {\n",
              "    border: 2px solid var(--fill-color);\n",
              "    border-color: transparent;\n",
              "    border-bottom-color: var(--fill-color);\n",
              "    animation:\n",
              "      spin 1s steps(1) infinite;\n",
              "  }\n",
              "\n",
              "  @keyframes spin {\n",
              "    0% {\n",
              "      border-color: transparent;\n",
              "      border-bottom-color: var(--fill-color);\n",
              "      border-left-color: var(--fill-color);\n",
              "    }\n",
              "    20% {\n",
              "      border-color: transparent;\n",
              "      border-left-color: var(--fill-color);\n",
              "      border-top-color: var(--fill-color);\n",
              "    }\n",
              "    30% {\n",
              "      border-color: transparent;\n",
              "      border-left-color: var(--fill-color);\n",
              "      border-top-color: var(--fill-color);\n",
              "      border-right-color: var(--fill-color);\n",
              "    }\n",
              "    40% {\n",
              "      border-color: transparent;\n",
              "      border-right-color: var(--fill-color);\n",
              "      border-top-color: var(--fill-color);\n",
              "    }\n",
              "    60% {\n",
              "      border-color: transparent;\n",
              "      border-right-color: var(--fill-color);\n",
              "    }\n",
              "    80% {\n",
              "      border-color: transparent;\n",
              "      border-right-color: var(--fill-color);\n",
              "      border-bottom-color: var(--fill-color);\n",
              "    }\n",
              "    90% {\n",
              "      border-color: transparent;\n",
              "      border-bottom-color: var(--fill-color);\n",
              "    }\n",
              "  }\n",
              "</style>\n",
              "\n",
              "  <script>\n",
              "    async function quickchart(key) {\n",
              "      const quickchartButtonEl =\n",
              "        document.querySelector('#' + key + ' button');\n",
              "      quickchartButtonEl.disabled = true;  // To prevent multiple clicks.\n",
              "      quickchartButtonEl.classList.add('colab-df-spinner');\n",
              "      try {\n",
              "        const charts = await google.colab.kernel.invokeFunction(\n",
              "            'suggestCharts', [key], {});\n",
              "      } catch (error) {\n",
              "        console.error('Error during call to suggestCharts:', error);\n",
              "      }\n",
              "      quickchartButtonEl.classList.remove('colab-df-spinner');\n",
              "      quickchartButtonEl.classList.add('colab-df-quickchart-complete');\n",
              "    }\n",
              "    (() => {\n",
              "      let quickchartButtonEl =\n",
              "        document.querySelector('#df-470dd770-b903-465c-a33d-5327db4760cc button');\n",
              "      quickchartButtonEl.style.display =\n",
              "        google.colab.kernel.accessAllowed ? 'block' : 'none';\n",
              "    })();\n",
              "  </script>\n",
              "</div>\n",
              "\n",
              "    </div>\n",
              "  </div>\n"
            ],
            "application/vnd.google.colaboratory.intrinsic+json": {
              "type": "dataframe",
              "variable_name": "test"
            }
          },
          "metadata": {},
          "execution_count": 9
        }
      ]
    },
    {
      "cell_type": "markdown",
      "source": [
        "Visualize the Code\n",
        "Extract data from row 3"
      ],
      "metadata": {
        "id": "g1igMgh57mCn"
      }
    },
    {
      "cell_type": "code",
      "source": [
        "features = [\"pixel{}\".format(pixel_num) for pixel_num in range(0, 784)]\n",
        "row_to_examine = 3\n",
        "image_data = np.reshape(train[features][row_to_examine:row_to_examine+1].to_numpy(), (28, 28))\n",
        "_ = plt.imshow(image_data, cmap=\"gray\")"
      ],
      "metadata": {
        "id": "DYE7um2067pB",
        "colab": {
          "base_uri": "https://localhost:8080/",
          "height": 430
        },
        "outputId": "8180f558-b65a-4f95-801e-863925012850"
      },
      "execution_count": 10,
      "outputs": [
        {
          "output_type": "display_data",
          "data": {
            "text/plain": [
              "<Figure size 640x480 with 1 Axes>"
            ],
            "image/png": "[encoded data removed]"
          },
          "metadata": {}
        }
      ]
    },
    {
      "cell_type": "code",
      "source": [
        "features1 = [\"pixel{}\".format(pixel_num) for pixel_num in range(0, 784)]\n",
        "row_to_examine = 4\n",
        "image_data = np.reshape(train[features1][row_to_examine:row_to_examine+1].to_numpy(), (28, 28))\n",
        "_ = plt.imshow(image_data, cmap=\"gray\")"
      ],
      "metadata": {
        "id": "e-qeln1r7v9y",
        "colab": {
          "base_uri": "https://localhost:8080/",
          "height": 430
        },
        "outputId": "9daf846a-5023-461c-b5f7-0167bab12639"
      },
      "execution_count": 11,
      "outputs": [
        {
          "output_type": "display_data",
          "data": {
            "text/plain": [
              "<Figure size 640x480 with 1 Axes>"
            ],
            "image/png": "[encoded data removed]"
          },
          "metadata": {}
        }
      ]
    },
    {
      "cell_type": "code",
      "source": [
        "features2 = [\"pixel{}\".format(pixel_num) for pixel_num in range(0, 784)]\n",
        "row_to_examine = 2\n",
        "image_data = np.reshape(train[features2][row_to_examine:row_to_examine+1].to_numpy(), (28, 28))\n",
        "_ = plt.imshow(image_data, cmap=\"gray\")"
      ],
      "metadata": {
        "id": "I7xBwWub8q-j",
        "colab": {
          "base_uri": "https://localhost:8080/",
          "height": 430
        },
        "outputId": "c38aaead-5698-4be8-e0eb-fdfaa1c8816b"
      },
      "execution_count": 12,
      "outputs": [
        {
          "output_type": "display_data",
          "data": {
            "text/plain": [
              "<Figure size 640x480 with 1 Axes>"
            ],
            "image/png": "[encoded data removed]"
          },
          "metadata": {}
        }
      ]
    },
    {
      "cell_type": "markdown",
      "source": [
        "# Split the Data in Train and Test"
      ],
      "metadata": {
        "id": "dnJ74-3tAaC9"
      }
    },
    {
      "cell_type": "code",
      "source": [
        "x = train.drop('label', axis=1)\n",
        "y = train['label']"
      ],
      "metadata": {
        "id": "RCnGjUi--iVa"
      },
      "execution_count": 13,
      "outputs": []
    },
    {
      "cell_type": "code",
      "source": [
        "print(x.shape)\n",
        "print(y.shape)"
      ],
      "metadata": {
        "id": "MdoFTz0yAoHs",
        "colab": {
          "base_uri": "https://localhost:8080/"
        },
        "outputId": "775edce9-ed09-40a1-d5aa-e91bb26614b1"
      },
      "execution_count": 14,
      "outputs": [
        {
          "output_type": "stream",
          "name": "stdout",
          "text": [
            "(42000, 784)\n",
            "(42000,)\n"
          ]
        }
      ]
    },
    {
      "cell_type": "code",
      "source": [
        "x_train, x_test, y_train, y_test = train_test_split(x, y, test_size=0.2, random_state=123)"
      ],
      "metadata": {
        "id": "Y3U5QGk0AtE9"
      },
      "execution_count": 15,
      "outputs": []
    },
    {
      "cell_type": "code",
      "source": [
        "print(x_train.shape)\n",
        "print(y_train.shape)\n",
        "print(x_test.shape)\n",
        "print(y_test.shape)"
      ],
      "metadata": {
        "id": "8FLULWgTBT8Q",
        "colab": {
          "base_uri": "https://localhost:8080/"
        },
        "outputId": "5fb0d17f-7d87-413c-d32a-ad4599ddd84e"
      },
      "execution_count": 16,
      "outputs": [
        {
          "output_type": "stream",
          "name": "stdout",
          "text": [
            "(33600, 784)\n",
            "(33600,)\n",
            "(8400, 784)\n",
            "(8400,)\n"
          ]
        }
      ]
    },
    {
      "cell_type": "markdown",
      "source": [
        "Apply the Model\n",
        "\n",
        "Random Forest Classifier\n"
      ],
      "metadata": {
        "id": "i0bfyQHFC42f"
      }
    },
    {
      "cell_type": "code",
      "source": [
        "rf = RandomForestClassifier()\n",
        "rf.fit(x_train, y_train)\n",
        "y_hat_train = rf.predict(x_train)\n",
        "y_hat_test = rf.predict(x_test)"
      ],
      "metadata": {
        "id": "41WTdRlxBgMm"
      },
      "execution_count": 17,
      "outputs": []
    },
    {
      "cell_type": "markdown",
      "source": [
        "Evalaute the Model\n",
        "Define Model Evaluation code as we run the code multiple times"
      ],
      "metadata": {
        "id": "IDwKyh2mDlpR"
      }
    },
    {
      "cell_type": "code",
      "source": [
        "def model_eval(actual,predicted):\n",
        "  print(\"Accuracy_Score:\", round(accuracy_score(actual, predicted),2))\n",
        "  print(\"Confusion Matrix:\\n\", confusion_matrix(actual, predicted))\n",
        "  print(\"Classification Report:\\n\", classification_report(actual, predicted))"
      ],
      "metadata": {
        "id": "yBsyBkatDfMG"
      },
      "execution_count": 18,
      "outputs": []
    },
    {
      "cell_type": "code",
      "source": [
        "model_eval(y_train, y_hat_train)"
      ],
      "metadata": {
        "id": "hNZzNfiTDwPN",
        "colab": {
          "base_uri": "https://localhost:8080/"
        },
        "outputId": "2785bbab-738d-47bb-ab67-1f435a3bc895"
      },
      "execution_count": 19,
      "outputs": [
        {
          "output_type": "stream",
          "name": "stdout",
          "text": [
            "Accuracy_Score: 1.0\n",
            "Confusion Matrix:\n",
            " [[3347    0    0    0    0    0    0    0    0    0]\n",
            " [   0 3735    0    0    0    0    0    0    0    0]\n",
            " [   0    0 3339    0    0    0    0    0    0    0]\n",
            " [   0    0    0 3493    0    0    0    0    0    0]\n",
            " [   0    0    0    0 3276    0    0    0    0    0]\n",
            " [   0    0    0    0    0 2995    0    0    0    0]\n",
            " [   0    0    0    0    0    0 3267    0    0    0]\n",
            " [   0    0    0    0    0    0    0 3541    0    0]\n",
            " [   0    0    0    0    0    0    0    0 3246    0]\n",
            " [   0    0    0    0    0    0    0    0    0 3361]]\n",
            "Classification Report:\n",
            "               precision    recall  f1-score   support\n",
            "\n",
            "           0       1.00      1.00      1.00      3347\n",
            "           1       1.00      1.00      1.00      3735\n",
            "           2       1.00      1.00      1.00      3339\n",
            "           3       1.00      1.00      1.00      3493\n",
            "           4       1.00      1.00      1.00      3276\n",
            "           5       1.00      1.00      1.00      2995\n",
            "           6       1.00      1.00      1.00      3267\n",
            "           7       1.00      1.00      1.00      3541\n",
            "           8       1.00      1.00      1.00      3246\n",
            "           9       1.00      1.00      1.00      3361\n",
            "\n",
            "    accuracy                           1.00     33600\n",
            "   macro avg       1.00      1.00      1.00     33600\n",
            "weighted avg       1.00      1.00      1.00     33600\n",
            "\n"
          ]
        }
      ]
    },
    {
      "cell_type": "code",
      "source": [
        "model_eval(y_test,y_hat_test)"
      ],
      "metadata": {
        "id": "7BiGM-A4GnjF",
        "colab": {
          "base_uri": "https://localhost:8080/"
        },
        "outputId": "3922a5a2-aee5-4055-d210-70b4e3578a8d"
      },
      "execution_count": 20,
      "outputs": [
        {
          "output_type": "stream",
          "name": "stdout",
          "text": [
            "Accuracy_Score: 0.97\n",
            "Confusion Matrix:\n",
            " [[774   0   1   1   1   0   3   1   4   0]\n",
            " [  0 933   6   4   1   1   2   0   2   0]\n",
            " [  2   1 812   9   1   2   2   3   4   2]\n",
            " [  1   0  12 821   0   7   0   7   7   3]\n",
            " [  2   2   0   0 771   0   2   2   6  11]\n",
            " [  3   2   1  16   1 764   6   1   5   1]\n",
            " [  2   1   0   0   2  12 852   0   1   0]\n",
            " [  1   6  11   0   6   0   0 829   1   6]\n",
            " [  3   4   2   8   4   5   6   0 777   8]\n",
            " [  6   0   3   8  14   3   0   9   6 778]]\n",
            "Classification Report:\n",
            "               precision    recall  f1-score   support\n",
            "\n",
            "           0       0.97      0.99      0.98       785\n",
            "           1       0.98      0.98      0.98       949\n",
            "           2       0.96      0.97      0.96       838\n",
            "           3       0.95      0.96      0.95       858\n",
            "           4       0.96      0.97      0.97       796\n",
            "           5       0.96      0.95      0.96       800\n",
            "           6       0.98      0.98      0.98       870\n",
            "           7       0.97      0.96      0.97       860\n",
            "           8       0.96      0.95      0.95       817\n",
            "           9       0.96      0.94      0.95       827\n",
            "\n",
            "    accuracy                           0.97      8400\n",
            "   macro avg       0.97      0.97      0.97      8400\n",
            "weighted avg       0.97      0.97      0.97      8400\n",
            "\n"
          ]
        }
      ]
    },
    {
      "cell_type": "markdown",
      "source": [
        "Model Performance is not upto the mark as we have low precision and recall values"
      ],
      "metadata": {
        "id": "eVKGhfEsG0-L"
      }
    },
    {
      "cell_type": "code",
      "source": [],
      "metadata": {
        "id": "ZqBBbBMGHDyF"
      },
      "execution_count": 20,
      "outputs": []
    },
    {
      "cell_type": "markdown",
      "source": [
        "Running Perceptron\n"
      ],
      "metadata": {
        "id": "R4sfr62qRGFS"
      }
    },
    {
      "cell_type": "code",
      "source": [
        "per = Perceptron(verbose = 1)\n",
        "per.fit(x_train, y_train)\n",
        "per_y_hat_train = per.predict(x_train)\n",
        "per_y_hat_test = per.predict(x_test)"
      ],
      "metadata": {
        "id": "Kmlo1SFzRLq8",
        "colab": {
          "base_uri": "https://localhost:8080/"
        },
        "outputId": "33dee5ab-1aa0-488a-9abe-24d79c1c9462"
      },
      "execution_count": 21,
      "outputs": [
        {
          "output_type": "stream",
          "name": "stdout",
          "text": [
            "-- Epoch 1\n",
            "Norm: 33680.40, NNZs: 599, Bias: -92.000000, T: 33600, Avg. loss: 46817.951667\n",
            "Total training time: 0.05 seconds.\n",
            "-- Epoch 2\n",
            "Norm: 42819.49, NNZs: 607, Bias: -161.000000, T: 67200, Avg. loss: 41184.869077\n",
            "Total training time: 0.10 seconds.\n",
            "-- Epoch 3\n",
            "Norm: 48607.75, NNZs: 614, Bias: -222.000000, T: 100800, Avg. loss: 36891.702232\n",
            "Total training time: 0.15 seconds.\n",
            "-- Epoch 4\n",
            "Norm: 54442.08, NNZs: 625, Bias: -281.000000, T: 134400, Avg. loss: 35999.461042\n",
            "Total training time: 0.20 seconds.\n",
            "-- Epoch 5\n",
            "Norm: 58608.01, NNZs: 631, Bias: -333.000000, T: 168000, Avg. loss: 37009.589702\n",
            "Total training time: 0.26 seconds.\n",
            "-- Epoch 6\n",
            "Norm: 61946.25, NNZs: 635, Bias: -383.000000, T: 201600, Avg. loss: 34799.316220\n",
            "Total training time: 0.31 seconds.\n",
            "-- Epoch 7\n",
            "Norm: 65207.63, NNZs: 637, Bias: -432.000000, T: 235200, Avg. loss: 36238.479613\n",
            "Total training time: 0.36 seconds.\n",
            "-- Epoch 8\n",
            "Norm: 68995.89, NNZs: 639, Bias: -476.000000, T: 268800, Avg. loss: 34062.205625\n",
            "Total training time: 0.41 seconds.\n",
            "-- Epoch 9\n",
            "Norm: 72716.99, NNZs: 639, Bias: -521.000000, T: 302400, Avg. loss: 32438.202173\n",
            "Total training time: 0.47 seconds.\n",
            "-- Epoch 10\n",
            "Norm: 75447.16, NNZs: 639, Bias: -563.000000, T: 336000, Avg. loss: 32292.536667\n",
            "Total training time: 0.52 seconds.\n",
            "-- Epoch 11\n",
            "Norm: 77822.41, NNZs: 639, Bias: -609.000000, T: 369600, Avg. loss: 34301.058214\n",
            "Total training time: 0.57 seconds.\n",
            "-- Epoch 12\n",
            "Norm: 81007.01, NNZs: 639, Bias: -661.000000, T: 403200, Avg. loss: 35224.191131\n",
            "Total training time: 0.62 seconds.\n",
            "-- Epoch 13\n",
            "Norm: 82890.94, NNZs: 639, Bias: -705.000000, T: 436800, Avg. loss: 33747.325863\n",
            "Total training time: 0.68 seconds.\n",
            "-- Epoch 14\n",
            "Norm: 84973.26, NNZs: 639, Bias: -748.000000, T: 470400, Avg. loss: 31301.132321\n",
            "Total training time: 0.74 seconds.\n",
            "-- Epoch 15\n",
            "Norm: 87757.36, NNZs: 639, Bias: -792.000000, T: 504000, Avg. loss: 32312.222708\n",
            "Total training time: 0.80 seconds.\n",
            "-- Epoch 16\n",
            "Norm: 89517.12, NNZs: 639, Bias: -834.000000, T: 537600, Avg. loss: 31293.953988\n",
            "Total training time: 0.86 seconds.\n",
            "-- Epoch 17\n",
            "Norm: 92120.81, NNZs: 639, Bias: -879.000000, T: 571200, Avg. loss: 31823.835923\n",
            "Total training time: 0.91 seconds.\n",
            "-- Epoch 18\n",
            "Norm: 93354.02, NNZs: 639, Bias: -923.000000, T: 604800, Avg. loss: 32199.063512\n",
            "Total training time: 0.97 seconds.\n",
            "-- Epoch 19\n",
            "Norm: 95389.80, NNZs: 639, Bias: -962.000000, T: 638400, Avg. loss: 31501.624494\n",
            "Total training time: 1.02 seconds.\n",
            "-- Epoch 20\n",
            "Norm: 97060.82, NNZs: 639, Bias: -1013.000000, T: 672000, Avg. loss: 32789.124375\n",
            "Total training time: 1.08 seconds.\n",
            "-- Epoch 21\n",
            "Norm: 99342.75, NNZs: 639, Bias: -1061.000000, T: 705600, Avg. loss: 33667.573423\n",
            "Total training time: 1.13 seconds.\n",
            "Convergence after 21 epochs took 1.13 seconds\n",
            "-- Epoch 1\n",
            "Norm: 26398.31, NNZs: 560, Bias: -34.000000, T: 33600, Avg. loss: 25361.617619\n",
            "Total training time: 0.06 seconds.\n",
            "-- Epoch 2\n",
            "Norm: 31613.19, NNZs: 570, Bias: -58.000000, T: 67200, Avg. loss: 22125.669107\n",
            "Total training time: 0.11 seconds.\n",
            "-- Epoch 3\n",
            "Norm: 36264.55, NNZs: 571, Bias: -73.000000, T: 100800, Avg. loss: 21133.352976\n",
            "Total training time: 0.17 seconds.\n",
            "-- Epoch 4\n",
            "Norm: 38909.07, NNZs: 576, Bias: -84.000000, T: 134400, Avg. loss: 20576.478393\n",
            "Total training time: 0.23 seconds.\n",
            "-- Epoch 5\n",
            "Norm: 41697.16, NNZs: 578, Bias: -98.000000, T: 168000, Avg. loss: 19900.769613\n",
            "Total training time: 0.30 seconds.\n",
            "-- Epoch 6\n",
            "Norm: 44398.44, NNZs: 581, Bias: -105.000000, T: 201600, Avg. loss: 20754.749137\n",
            "Total training time: 0.36 seconds.\n",
            "-- Epoch 7\n",
            "Norm: 46842.38, NNZs: 583, Bias: -118.000000, T: 235200, Avg. loss: 19517.157589\n",
            "Total training time: 0.42 seconds.\n",
            "-- Epoch 8\n",
            "Norm: 49225.67, NNZs: 594, Bias: -128.000000, T: 268800, Avg. loss: 19386.208720\n",
            "Total training time: 0.48 seconds.\n",
            "-- Epoch 9\n",
            "Norm: 51823.38, NNZs: 599, Bias: -137.000000, T: 302400, Avg. loss: 18184.694405\n",
            "Total training time: 0.53 seconds.\n",
            "-- Epoch 10\n",
            "Norm: 54147.67, NNZs: 600, Bias: -143.000000, T: 336000, Avg. loss: 17881.692321\n",
            "Total training time: 0.59 seconds.\n",
            "-- Epoch 11\n",
            "Norm: 56021.15, NNZs: 604, Bias: -148.000000, T: 369600, Avg. loss: 18653.010893\n",
            "Total training time: 0.64 seconds.\n",
            "-- Epoch 12\n",
            "Norm: 58496.56, NNZs: 609, Bias: -153.000000, T: 403200, Avg. loss: 18471.054405\n",
            "Total training time: 0.70 seconds.\n",
            "-- Epoch 13\n",
            "Norm: 59823.30, NNZs: 609, Bias: -163.000000, T: 436800, Avg. loss: 18384.287500\n",
            "Total training time: 0.75 seconds.\n",
            "-- Epoch 14\n",
            "Norm: 61703.24, NNZs: 609, Bias: -173.000000, T: 470400, Avg. loss: 17105.853750\n",
            "Total training time: 0.80 seconds.\n",
            "-- Epoch 15\n",
            "Norm: 63489.23, NNZs: 612, Bias: -181.000000, T: 504000, Avg. loss: 18975.412976\n",
            "Total training time: 0.85 seconds.\n",
            "-- Epoch 16\n",
            "Norm: 65371.44, NNZs: 612, Bias: -186.000000, T: 537600, Avg. loss: 17669.717976\n",
            "Total training time: 0.90 seconds.\n",
            "-- Epoch 17\n",
            "Norm: 66946.91, NNZs: 614, Bias: -194.000000, T: 571200, Avg. loss: 17663.917560\n",
            "Total training time: 0.95 seconds.\n",
            "-- Epoch 18\n",
            "Norm: 68839.28, NNZs: 617, Bias: -203.000000, T: 604800, Avg. loss: 18486.346875\n",
            "Total training time: 1.00 seconds.\n",
            "-- Epoch 19\n",
            "Norm: 70613.40, NNZs: 617, Bias: -213.000000, T: 638400, Avg. loss: 18157.243452\n",
            "Total training time: 1.05 seconds.\n",
            "Convergence after 19 epochs took 1.05 seconds\n",
            "-- Epoch 1\n",
            "Norm: 37314.14, NNZs: 631, Bias: -88.000000, T: 33600, Avg. loss: 96577.045923\n",
            "Total training time: 0.05 seconds.\n",
            "-- Epoch 2\n",
            "Norm: 44128.72, NNZs: 636, Bias: -162.000000, T: 67200, Avg. loss: 90873.737083\n",
            "Total training time: 0.10 seconds.\n",
            "-- Epoch 3\n",
            "Norm: 50583.74, NNZs: 642, Bias: -231.000000, T: 100800, Avg. loss: 89628.583750\n",
            "Total training time: 0.15 seconds.\n",
            "-- Epoch 4\n",
            "Norm: 54168.58, NNZs: 643, Bias: -302.000000, T: 134400, Avg. loss: 90226.199018\n",
            "Total training time: 0.21 seconds.\n",
            "-- Epoch 5\n",
            "Norm: 56510.36, NNZs: 643, Bias: -357.000000, T: 168000, Avg. loss: 86301.561548\n",
            "Total training time: 0.26 seconds.\n",
            "-- Epoch 6\n",
            "Norm: 62285.13, NNZs: 644, Bias: -425.000000, T: 201600, Avg. loss: 88602.669762\n",
            "Total training time: 0.32 seconds.\n",
            "-- Epoch 7\n",
            "Norm: 63389.29, NNZs: 644, Bias: -489.000000, T: 235200, Avg. loss: 87977.359286\n",
            "Total training time: 0.37 seconds.\n",
            "-- Epoch 8\n",
            "Norm: 66491.61, NNZs: 644, Bias: -556.000000, T: 268800, Avg. loss: 85774.638423\n",
            "Total training time: 0.43 seconds.\n",
            "-- Epoch 9\n",
            "Norm: 69262.00, NNZs: 644, Bias: -609.000000, T: 302400, Avg. loss: 87651.091399\n",
            "Total training time: 0.48 seconds.\n",
            "-- Epoch 10\n",
            "Norm: 71601.70, NNZs: 644, Bias: -668.000000, T: 336000, Avg. loss: 85173.424613\n",
            "Total training time: 0.53 seconds.\n",
            "-- Epoch 11\n",
            "Norm: 74203.18, NNZs: 645, Bias: -723.000000, T: 369600, Avg. loss: 86586.834167\n",
            "Total training time: 0.58 seconds.\n",
            "-- Epoch 12\n",
            "Norm: 75418.48, NNZs: 646, Bias: -781.000000, T: 403200, Avg. loss: 84865.833690\n",
            "Total training time: 0.63 seconds.\n",
            "-- Epoch 13\n",
            "Norm: 76865.98, NNZs: 646, Bias: -832.000000, T: 436800, Avg. loss: 90802.518750\n",
            "Total training time: 0.68 seconds.\n",
            "-- Epoch 14\n",
            "Norm: 78601.91, NNZs: 646, Bias: -887.000000, T: 470400, Avg. loss: 89849.372232\n",
            "Total training time: 0.74 seconds.\n",
            "-- Epoch 15\n",
            "Norm: 81254.93, NNZs: 650, Bias: -951.000000, T: 504000, Avg. loss: 84589.548869\n",
            "Total training time: 0.79 seconds.\n",
            "-- Epoch 16\n",
            "Norm: 82067.45, NNZs: 649, Bias: -1013.000000, T: 537600, Avg. loss: 88280.016190\n",
            "Total training time: 0.86 seconds.\n",
            "-- Epoch 17\n",
            "Norm: 84184.62, NNZs: 650, Bias: -1075.000000, T: 571200, Avg. loss: 85966.068036\n",
            "Total training time: 0.92 seconds.\n",
            "-- Epoch 18\n",
            "Norm: 85028.95, NNZs: 650, Bias: -1128.000000, T: 604800, Avg. loss: 88452.863333\n",
            "Total training time: 0.98 seconds.\n",
            "-- Epoch 19\n",
            "Norm: 86305.68, NNZs: 650, Bias: -1185.000000, T: 638400, Avg. loss: 83922.722500\n",
            "Total training time: 1.04 seconds.\n",
            "-- Epoch 20\n",
            "Norm: 87377.31, NNZs: 650, Bias: -1242.000000, T: 672000, Avg. loss: 87437.992798\n",
            "Total training time: 1.11 seconds.\n",
            "-- Epoch 21\n",
            "Norm: 88789.49, NNZs: 654, Bias: -1291.000000, T: 705600, Avg. loss: 86266.221339\n",
            "Total training time: 1.17 seconds.\n",
            "-- Epoch 22\n",
            "Norm: 89872.88, NNZs: 654, Bias: -1346.000000, T: 739200, Avg. loss: 84863.819226\n",
            "Total training time: 1.23 seconds.\n",
            "-- Epoch 23\n",
            "Norm: 90691.38, NNZs: 655, Bias: -1392.000000, T: 772800, Avg. loss: 84192.695446\n",
            "Total training time: 1.29 seconds.\n",
            "-- Epoch 24\n",
            "Norm: 92075.79, NNZs: 654, Bias: -1456.000000, T: 806400, Avg. loss: 89009.586488\n",
            "Total training time: 1.36 seconds.\n",
            "Convergence after 24 epochs took 1.36 seconds\n",
            "-- Epoch 1\n",
            "Norm: 35843.44, NNZs: 592, Bias: -183.000000, T: 33600, Avg. loss: 128480.352351\n",
            "Total training time: 0.06 seconds.\n",
            "-- Epoch 2\n",
            "Norm: 42126.43, NNZs: 601, Bias: -326.000000, T: 67200, Avg. loss: 129710.005357\n",
            "Total training time: 0.12 seconds.\n",
            "-- Epoch 3\n",
            "Norm: 47657.56, NNZs: 606, Bias: -466.000000, T: 100800, Avg. loss: 121485.599970\n",
            "Total training time: 0.18 seconds.\n",
            "-- Epoch 4\n",
            "Norm: 53381.81, NNZs: 608, Bias: -589.000000, T: 134400, Avg. loss: 124830.879792\n",
            "Total training time: 0.25 seconds.\n",
            "-- Epoch 5\n",
            "Norm: 57446.25, NNZs: 610, Bias: -717.000000, T: 168000, Avg. loss: 123217.713780\n",
            "Total training time: 0.30 seconds.\n",
            "-- Epoch 6\n",
            "Norm: 59583.12, NNZs: 610, Bias: -832.000000, T: 201600, Avg. loss: 124839.120506\n",
            "Total training time: 0.37 seconds.\n",
            "-- Epoch 7\n",
            "Norm: 61814.28, NNZs: 611, Bias: -969.000000, T: 235200, Avg. loss: 124496.203720\n",
            "Total training time: 0.43 seconds.\n",
            "-- Epoch 8\n",
            "Norm: 64293.43, NNZs: 611, Bias: -1105.000000, T: 268800, Avg. loss: 121835.435774\n",
            "Total training time: 0.49 seconds.\n",
            "Convergence after 8 epochs took 0.49 seconds\n",
            "-- Epoch 1\n",
            "Norm: 37641.17, NNZs: 632, Bias: -63.000000, T: 33600, Avg. loss: 80582.521369\n",
            "Total training time: 0.06 seconds.\n",
            "-- Epoch 2\n",
            "Norm: 45561.48, NNZs: 643, Bias: -110.000000, T: 67200, Avg. loss: 67452.582917\n",
            "Total training time: 0.12 seconds.\n",
            "-- Epoch 3\n",
            "Norm: 51531.62, NNZs: 657, Bias: -140.000000, T: 100800, Avg. loss: 65367.227470\n",
            "Total training time: 0.18 seconds.\n",
            "-- Epoch 4\n",
            "Norm: 56796.33, NNZs: 660, Bias: -176.000000, T: 134400, Avg. loss: 61077.277024\n",
            "Total training time: 0.24 seconds.\n",
            "-- Epoch 5\n",
            "Norm: 61779.10, NNZs: 661, Bias: -220.000000, T: 168000, Avg. loss: 62217.314673\n",
            "Total training time: 0.30 seconds.\n",
            "-- Epoch 6\n",
            "Norm: 66212.86, NNZs: 665, Bias: -257.000000, T: 201600, Avg. loss: 62441.151220\n",
            "Total training time: 0.36 seconds.\n",
            "-- Epoch 7\n",
            "Norm: 70281.72, NNZs: 665, Bias: -301.000000, T: 235200, Avg. loss: 60719.254881\n",
            "Total training time: 0.42 seconds.\n",
            "-- Epoch 8\n",
            "Norm: 73357.68, NNZs: 666, Bias: -339.000000, T: 268800, Avg. loss: 59862.561071\n",
            "Total training time: 0.49 seconds.\n",
            "-- Epoch 9\n",
            "Norm: 75843.56, NNZs: 668, Bias: -382.000000, T: 302400, Avg. loss: 59100.903899\n",
            "Total training time: 0.55 seconds.\n",
            "-- Epoch 10\n",
            "Norm: 78748.74, NNZs: 668, Bias: -416.000000, T: 336000, Avg. loss: 60639.541577\n",
            "Total training time: 0.61 seconds.\n",
            "-- Epoch 11\n",
            "Norm: 80260.03, NNZs: 668, Bias: -447.000000, T: 369600, Avg. loss: 59565.494315\n",
            "Total training time: 0.67 seconds.\n",
            "-- Epoch 12\n",
            "Norm: 82765.54, NNZs: 668, Bias: -475.000000, T: 403200, Avg. loss: 58853.275179\n",
            "Total training time: 0.74 seconds.\n",
            "-- Epoch 13\n",
            "Norm: 84879.71, NNZs: 668, Bias: -510.000000, T: 436800, Avg. loss: 60189.332113\n",
            "Total training time: 0.80 seconds.\n",
            "-- Epoch 14\n",
            "Norm: 86717.81, NNZs: 668, Bias: -555.000000, T: 470400, Avg. loss: 59021.259107\n",
            "Total training time: 0.86 seconds.\n",
            "-- Epoch 15\n",
            "Norm: 88321.25, NNZs: 668, Bias: -590.000000, T: 504000, Avg. loss: 60514.877024\n",
            "Total training time: 0.92 seconds.\n",
            "-- Epoch 16\n",
            "Norm: 90614.48, NNZs: 670, Bias: -625.000000, T: 537600, Avg. loss: 58115.752589\n",
            "Total training time: 0.98 seconds.\n",
            "-- Epoch 17\n",
            "Norm: 92847.08, NNZs: 670, Bias: -663.000000, T: 571200, Avg. loss: 60877.726012\n",
            "Total training time: 1.04 seconds.\n",
            "-- Epoch 18\n",
            "Norm: 94550.09, NNZs: 671, Bias: -694.000000, T: 604800, Avg. loss: 57533.169613\n",
            "Total training time: 1.10 seconds.\n",
            "-- Epoch 19\n",
            "Norm: 95684.10, NNZs: 671, Bias: -728.000000, T: 638400, Avg. loss: 59977.879911\n",
            "Total training time: 1.16 seconds.\n",
            "-- Epoch 20\n",
            "Norm: 96928.58, NNZs: 671, Bias: -761.000000, T: 672000, Avg. loss: 60506.035565\n",
            "Total training time: 1.22 seconds.\n",
            "-- Epoch 21\n",
            "Norm: 98871.28, NNZs: 671, Bias: -799.000000, T: 705600, Avg. loss: 57912.343601\n",
            "Total training time: 1.28 seconds.\n",
            "-- Epoch 22\n",
            "Norm: 99679.73, NNZs: 671, Bias: -832.000000, T: 739200, Avg. loss: 60952.210387\n",
            "Total training time: 1.34 seconds.\n",
            "-- Epoch 23\n",
            "Norm: 100897.16, NNZs: 672, Bias: -876.000000, T: 772800, Avg. loss: 61936.474762\n",
            "Total training time: 1.40 seconds.\n",
            "Convergence after 23 epochs took 1.40 seconds\n",
            "-- Epoch 1\n",
            "Norm: 42423.66, NNZs: 606, Bias: 27.000000, T: 33600, Avg. loss: 130188.282381\n",
            "Total training time: 0.06 seconds.\n",
            "-- Epoch 2\n",
            "Norm: 51881.43, NNZs: 619, Bias: 55.000000, T: 67200, Avg. loss: 119434.731429\n",
            "Total training time: 0.12 seconds.\n",
            "-- Epoch 3\n",
            "Norm: 57337.03, NNZs: 628, Bias: 90.000000, T: 100800, Avg. loss: 113136.772054\n",
            "Total training time: 0.18 seconds.\n",
            "-- Epoch 4\n",
            "Norm: 62414.69, NNZs: 639, Bias: 123.000000, T: 134400, Avg. loss: 113143.845446\n",
            "Total training time: 0.24 seconds.\n",
            "-- Epoch 5\n",
            "Norm: 68023.43, NNZs: 640, Bias: 158.000000, T: 168000, Avg. loss: 114112.914911\n",
            "Total training time: 0.31 seconds.\n",
            "-- Epoch 6\n",
            "Norm: 71561.46, NNZs: 641, Bias: 189.000000, T: 201600, Avg. loss: 111591.199643\n",
            "Total training time: 0.37 seconds.\n",
            "-- Epoch 7\n",
            "Norm: 75066.78, NNZs: 641, Bias: 217.000000, T: 235200, Avg. loss: 110774.543542\n",
            "Total training time: 0.45 seconds.\n",
            "-- Epoch 8\n",
            "Norm: 77962.25, NNZs: 641, Bias: 250.000000, T: 268800, Avg. loss: 109275.440357\n",
            "Total training time: 0.54 seconds.\n",
            "-- Epoch 9\n",
            "Norm: 81947.15, NNZs: 641, Bias: 277.000000, T: 302400, Avg. loss: 108801.517976\n",
            "Total training time: 0.62 seconds.\n",
            "-- Epoch 10\n",
            "Norm: 84724.58, NNZs: 641, Bias: 314.000000, T: 336000, Avg. loss: 110661.619821\n",
            "Total training time: 0.72 seconds.\n",
            "-- Epoch 11\n",
            "Norm: 87225.59, NNZs: 641, Bias: 354.000000, T: 369600, Avg. loss: 108303.698780\n",
            "Total training time: 0.82 seconds.\n",
            "-- Epoch 12\n",
            "Norm: 89073.29, NNZs: 641, Bias: 389.000000, T: 403200, Avg. loss: 106832.891131\n",
            "Total training time: 0.90 seconds.\n",
            "-- Epoch 13\n",
            "Norm: 91419.32, NNZs: 641, Bias: 416.000000, T: 436800, Avg. loss: 110941.566429\n",
            "Total training time: 0.97 seconds.\n",
            "-- Epoch 14\n",
            "Norm: 93994.71, NNZs: 641, Bias: 456.000000, T: 470400, Avg. loss: 113329.592262\n",
            "Total training time: 1.06 seconds.\n",
            "-- Epoch 15\n",
            "Norm: 95985.17, NNZs: 641, Bias: 495.000000, T: 504000, Avg. loss: 109959.708244\n",
            "Total training time: 1.15 seconds.\n",
            "-- Epoch 16\n",
            "Norm: 97348.95, NNZs: 642, Bias: 524.000000, T: 537600, Avg. loss: 110222.617411\n",
            "Total training time: 1.22 seconds.\n",
            "-- Epoch 17\n",
            "Norm: 99584.26, NNZs: 641, Bias: 554.000000, T: 571200, Avg. loss: 106344.273869\n",
            "Total training time: 1.33 seconds.\n",
            "-- Epoch 18\n",
            "Norm: 101776.71, NNZs: 642, Bias: 584.000000, T: 604800, Avg. loss: 106643.082440\n",
            "Total training time: 1.41 seconds.\n",
            "-- Epoch 19\n",
            "Norm: 103208.53, NNZs: 642, Bias: 613.000000, T: 638400, Avg. loss: 108343.745804\n",
            "Total training time: 1.49 seconds.\n",
            "-- Epoch 20\n",
            "Norm: 105713.85, NNZs: 642, Bias: 639.000000, T: 672000, Avg. loss: 110997.620417\n",
            "Total training time: 1.59 seconds.\n",
            "-- Epoch 21\n",
            "Norm: 107202.41, NNZs: 642, Bias: 672.000000, T: 705600, Avg. loss: 106189.241994\n",
            "Total training time: 1.70 seconds.\n",
            "-- Epoch 22\n",
            "Norm: 109639.44, NNZs: 642, Bias: 698.000000, T: 739200, Avg. loss: 105599.439702\n",
            "Total training time: 1.80 seconds.\n",
            "-- Epoch 23\n",
            "Norm: 110812.71, NNZs: 642, Bias: 732.000000, T: 772800, Avg. loss: 107623.893661\n",
            "Total training time: 1.88 seconds.\n",
            "-- Epoch 24\n",
            "Norm: 112581.36, NNZs: 642, Bias: 765.000000, T: 806400, Avg. loss: 107060.136429\n",
            "Total training time: 1.95 seconds.\n",
            "-- Epoch 25\n",
            "Norm: 114309.41, NNZs: 642, Bias: 798.000000, T: 840000, Avg. loss: 107680.858452\n",
            "Total training time: 2.03 seconds.\n",
            "-- Epoch 26\n",
            "Norm: 116237.10, NNZs: 642, Bias: 826.000000, T: 873600, Avg. loss: 108127.371905\n",
            "Total training time: 2.10 seconds.\n",
            "-- Epoch 27\n",
            "Norm: 117243.89, NNZs: 642, Bias: 861.000000, T: 907200, Avg. loss: 107025.967768\n",
            "Total training time: 2.17 seconds.\n",
            "Convergence after 27 epochs took 2.17 seconds\n",
            "-- Epoch 1\n",
            "Norm: 32486.64, NNZs: 577, Bias: -105.000000, T: 33600, Avg. loss: 61757.694315\n",
            "Total training time: 0.09 seconds.\n",
            "-- Epoch 2\n",
            "Norm: 40534.54, NNZs: 584, Bias: -200.000000, T: 67200, Avg. loss: 56512.068690\n",
            "Total training time: 0.16 seconds.\n",
            "-- Epoch 3\n",
            "Norm: 44742.80, NNZs: 588, Bias: -287.000000, T: 100800, Avg. loss: 56831.399375\n",
            "Total training time: 0.25 seconds.\n",
            "-- Epoch 4\n",
            "Norm: 48306.09, NNZs: 589, Bias: -365.000000, T: 134400, Avg. loss: 57471.921488\n",
            "Total training time: 0.32 seconds.\n",
            "-- Epoch 5\n",
            "Norm: 51911.01, NNZs: 594, Bias: -437.000000, T: 168000, Avg. loss: 53519.729940\n",
            "Total training time: 0.38 seconds.\n",
            "-- Epoch 6\n",
            "Norm: 54449.70, NNZs: 594, Bias: -512.000000, T: 201600, Avg. loss: 56500.563304\n",
            "Total training time: 0.43 seconds.\n",
            "-- Epoch 7\n",
            "Norm: 56208.93, NNZs: 594, Bias: -591.000000, T: 235200, Avg. loss: 55719.122857\n",
            "Total training time: 0.49 seconds.\n",
            "-- Epoch 8\n",
            "Norm: 58646.84, NNZs: 595, Bias: -667.000000, T: 268800, Avg. loss: 52715.723690\n",
            "Total training time: 0.55 seconds.\n",
            "-- Epoch 9\n",
            "Norm: 61872.61, NNZs: 600, Bias: -742.000000, T: 302400, Avg. loss: 54451.783214\n",
            "Total training time: 0.61 seconds.\n",
            "-- Epoch 10\n",
            "Norm: 64386.40, NNZs: 600, Bias: -819.000000, T: 336000, Avg. loss: 54228.641726\n",
            "Total training time: 0.67 seconds.\n",
            "-- Epoch 11\n",
            "Norm: 66294.61, NNZs: 600, Bias: -896.000000, T: 369600, Avg. loss: 52856.449167\n",
            "Total training time: 0.73 seconds.\n",
            "-- Epoch 12\n",
            "Norm: 67818.78, NNZs: 600, Bias: -967.000000, T: 403200, Avg. loss: 52751.668839\n",
            "Total training time: 0.79 seconds.\n",
            "-- Epoch 13\n",
            "Norm: 69092.91, NNZs: 600, Bias: -1041.000000, T: 436800, Avg. loss: 51681.258036\n",
            "Total training time: 0.86 seconds.\n",
            "-- Epoch 14\n",
            "Norm: 71238.41, NNZs: 600, Bias: -1116.000000, T: 470400, Avg. loss: 51981.144881\n",
            "Total training time: 0.91 seconds.\n",
            "-- Epoch 15\n",
            "Norm: 72874.40, NNZs: 600, Bias: -1189.000000, T: 504000, Avg. loss: 50819.850149\n",
            "Total training time: 0.97 seconds.\n",
            "-- Epoch 16\n",
            "Norm: 74450.89, NNZs: 600, Bias: -1263.000000, T: 537600, Avg. loss: 53628.265268\n",
            "Total training time: 1.03 seconds.\n",
            "-- Epoch 17\n",
            "Norm: 76487.74, NNZs: 601, Bias: -1337.000000, T: 571200, Avg. loss: 52789.735744\n",
            "Total training time: 1.10 seconds.\n",
            "-- Epoch 18\n",
            "Norm: 77849.43, NNZs: 603, Bias: -1410.000000, T: 604800, Avg. loss: 52466.989940\n",
            "Total training time: 1.15 seconds.\n",
            "-- Epoch 19\n",
            "Norm: 79984.11, NNZs: 603, Bias: -1479.000000, T: 638400, Avg. loss: 53286.368958\n",
            "Total training time: 1.21 seconds.\n",
            "-- Epoch 20\n",
            "Norm: 80396.01, NNZs: 603, Bias: -1550.000000, T: 672000, Avg. loss: 51882.202679\n",
            "Total training time: 1.28 seconds.\n",
            "Convergence after 20 epochs took 1.28 seconds\n",
            "-- Epoch 1\n",
            "Norm: 32589.46, NNZs: 583, Bias: -17.000000, T: 33600, Avg. loss: 62025.632560\n",
            "Total training time: 0.06 seconds.\n",
            "-- Epoch 2\n",
            "Norm: 37511.93, NNZs: 609, Bias: -29.000000, T: 67200, Avg. loss: 58115.097619\n",
            "Total training time: 0.12 seconds.\n",
            "-- Epoch 3\n",
            "Norm: 42262.38, NNZs: 613, Bias: -45.000000, T: 100800, Avg. loss: 57995.263839\n",
            "Total training time: 0.18 seconds.\n",
            "-- Epoch 4\n",
            "Norm: 46423.57, NNZs: 620, Bias: -57.000000, T: 134400, Avg. loss: 58623.844851\n",
            "Total training time: 0.23 seconds.\n",
            "-- Epoch 5\n",
            "Norm: 50025.21, NNZs: 622, Bias: -63.000000, T: 168000, Avg. loss: 53911.482560\n",
            "Total training time: 0.29 seconds.\n",
            "-- Epoch 6\n",
            "Norm: 53211.32, NNZs: 620, Bias: -77.000000, T: 201600, Avg. loss: 51937.196726\n",
            "Total training time: 0.35 seconds.\n",
            "-- Epoch 7\n",
            "Norm: 56199.23, NNZs: 624, Bias: -82.000000, T: 235200, Avg. loss: 54733.387946\n",
            "Total training time: 0.41 seconds.\n",
            "-- Epoch 8\n",
            "Norm: 58992.86, NNZs: 625, Bias: -103.000000, T: 268800, Avg. loss: 52753.839226\n",
            "Total training time: 0.47 seconds.\n",
            "-- Epoch 9\n",
            "Norm: 61704.82, NNZs: 627, Bias: -111.000000, T: 302400, Avg. loss: 55863.080506\n",
            "Total training time: 0.53 seconds.\n",
            "-- Epoch 10\n",
            "Norm: 63877.60, NNZs: 632, Bias: -131.000000, T: 336000, Avg. loss: 54647.428988\n",
            "Total training time: 0.59 seconds.\n",
            "-- Epoch 11\n",
            "Norm: 66299.11, NNZs: 634, Bias: -148.000000, T: 369600, Avg. loss: 54471.431637\n",
            "Total training time: 0.64 seconds.\n",
            "Convergence after 11 epochs took 0.64 seconds\n",
            "-- Epoch 1\n",
            "Norm: 41758.03, NNZs: 625, Bias: -462.000000, T: 33600, Avg. loss: 233095.000774\n",
            "Total training time: 0.06 seconds.\n",
            "-- Epoch 2\n",
            "Norm: 50310.57, NNZs: 631, Bias: -882.000000, T: 67200, Avg. loss: 228599.348750\n",
            "Total training time: 0.13 seconds.\n",
            "-- Epoch 3\n",
            "Norm: 56368.42, NNZs: 641, Bias: -1299.000000, T: 100800, Avg. loss: 227184.443333\n",
            "Total training time: 0.19 seconds.\n",
            "-- Epoch 4\n",
            "Norm: 60403.37, NNZs: 645, Bias: -1688.000000, T: 134400, Avg. loss: 229155.082083\n",
            "Total training time: 0.25 seconds.\n",
            "-- Epoch 5\n",
            "Norm: 63372.61, NNZs: 649, Bias: -2067.000000, T: 168000, Avg. loss: 221451.627738\n",
            "Total training time: 0.32 seconds.\n",
            "-- Epoch 6\n",
            "Norm: 67369.73, NNZs: 650, Bias: -2466.000000, T: 201600, Avg. loss: 225979.830327\n",
            "Total training time: 0.40 seconds.\n",
            "-- Epoch 7\n",
            "Norm: 70718.75, NNZs: 650, Bias: -2852.000000, T: 235200, Avg. loss: 225628.723304\n",
            "Total training time: 0.47 seconds.\n",
            "-- Epoch 8\n",
            "Norm: 71812.83, NNZs: 651, Bias: -3252.000000, T: 268800, Avg. loss: 226431.173661\n",
            "Total training time: 0.54 seconds.\n",
            "-- Epoch 9\n",
            "Norm: 73696.43, NNZs: 653, Bias: -3628.000000, T: 302400, Avg. loss: 223407.070655\n",
            "Total training time: 0.60 seconds.\n",
            "-- Epoch 10\n",
            "Norm: 76871.33, NNZs: 653, Bias: -3996.000000, T: 336000, Avg. loss: 223646.291935\n",
            "Total training time: 0.68 seconds.\n",
            "Convergence after 10 epochs took 0.68 seconds\n",
            "-- Epoch 1\n",
            "Norm: 36290.84, NNZs: 625, Bias: -187.000000, T: 33600, Avg. loss: 159959.056161\n",
            "Total training time: 0.07 seconds.\n",
            "-- Epoch 2\n",
            "Norm: 44920.30, NNZs: 641, Bias: -378.000000, T: 67200, Avg. loss: 154155.718125\n",
            "Total training time: 0.14 seconds.\n",
            "-- Epoch 3\n",
            "Norm: 51342.61, NNZs: 651, Bias: -555.000000, T: 100800, Avg. loss: 150645.519911\n",
            "Total training time: 0.21 seconds.\n",
            "-- Epoch 4\n",
            "Norm: 56524.62, NNZs: 652, Bias: -729.000000, T: 134400, Avg. loss: 146213.910208\n",
            "Total training time: 0.28 seconds.\n",
            "-- Epoch 5\n",
            "Norm: 59759.74, NNZs: 652, Bias: -916.000000, T: 168000, Avg. loss: 150237.405774\n",
            "Total training time: 0.35 seconds.\n",
            "-- Epoch 6\n",
            "Norm: 63784.97, NNZs: 652, Bias: -1087.000000, T: 201600, Avg. loss: 147086.445833\n",
            "Total training time: 0.41 seconds.\n",
            "-- Epoch 7\n",
            "Norm: 65860.29, NNZs: 653, Bias: -1268.000000, T: 235200, Avg. loss: 149149.701250\n",
            "Total training time: 0.49 seconds.\n",
            "-- Epoch 8\n",
            "Norm: 67339.26, NNZs: 656, Bias: -1434.000000, T: 268800, Avg. loss: 150210.671667\n",
            "Total training time: 0.55 seconds.\n",
            "-- Epoch 9\n",
            "Norm: 69460.15, NNZs: 656, Bias: -1616.000000, T: 302400, Avg. loss: 147811.250506\n",
            "Total training time: 0.61 seconds.\n",
            "Convergence after 9 epochs took 0.61 seconds\n"
          ]
        }
      ]
    },
    {
      "cell_type": "code",
      "source": [
        "per.n_iter_"
      ],
      "metadata": {
        "id": "fxVu6gmqSOGF",
        "colab": {
          "base_uri": "https://localhost:8080/"
        },
        "outputId": "616ea842-9b0c-4c7b-cee2-8cd0ce6dd0b4"
      },
      "execution_count": 22,
      "outputs": [
        {
          "output_type": "execute_result",
          "data": {
            "text/plain": [
              "27"
            ]
          },
          "metadata": {},
          "execution_count": 22
        }
      ]
    },
    {
      "cell_type": "code",
      "source": [
        "per = Perceptron(verbose = 0)\n",
        "per.fit(x_train, y_train)\n",
        "per_y_hat_train = per.predict(x_train)\n",
        "per_y_hat_test = per.predict(x_test)"
      ],
      "metadata": {
        "id": "TRVEofyKSJC9"
      },
      "execution_count": 23,
      "outputs": []
    },
    {
      "cell_type": "markdown",
      "source": [
        "Model Evaluation - Single layer Perceptron"
      ],
      "metadata": {
        "id": "qLgH77lHTZPD"
      }
    },
    {
      "cell_type": "code",
      "source": [
        "model_eval(y_test,per_y_hat_test)"
      ],
      "metadata": {
        "id": "Vav_DBsUTbzC",
        "colab": {
          "base_uri": "https://localhost:8080/"
        },
        "outputId": "01d4a8e7-26be-4a28-b07a-5790dbf94265"
      },
      "execution_count": 24,
      "outputs": [
        {
          "output_type": "stream",
          "name": "stdout",
          "text": [
            "Accuracy_Score: 0.87\n",
            "Confusion Matrix:\n",
            " [[741   1   4   0   0  10  22   0   7   0]\n",
            " [  0 895   8   6   1   3   2   0  34   0]\n",
            " [  4   3 710  28   2   9  18   4  59   1]\n",
            " [  6   2  23 742   2  38   4   5  28   8]\n",
            " [  5   6  33   2 689   2  12   6  28  13]\n",
            " [ 12   5   4  38   3 654  21   1  58   4]\n",
            " [  3   1  12   0   0  18 823   1  12   0]\n",
            " [  4   5  32   1   2   6   0 781  15  14]\n",
            " [  6  11  15   8   2  25  10   5 732   3]\n",
            " [  5   2  37  14  62  30   0  85  82 510]]\n",
            "Classification Report:\n",
            "               precision    recall  f1-score   support\n",
            "\n",
            "           0       0.94      0.94      0.94       785\n",
            "           1       0.96      0.94      0.95       949\n",
            "           2       0.81      0.85      0.83       838\n",
            "           3       0.88      0.86      0.87       858\n",
            "           4       0.90      0.87      0.88       796\n",
            "           5       0.82      0.82      0.82       800\n",
            "           6       0.90      0.95      0.92       870\n",
            "           7       0.88      0.91      0.89       860\n",
            "           8       0.69      0.90      0.78       817\n",
            "           9       0.92      0.62      0.74       827\n",
            "\n",
            "    accuracy                           0.87      8400\n",
            "   macro avg       0.87      0.86      0.86      8400\n",
            "weighted avg       0.87      0.87      0.87      8400\n",
            "\n"
          ]
        }
      ]
    },
    {
      "cell_type": "code",
      "source": [
        "model_eval(y_train,per_y_hat_train)"
      ],
      "metadata": {
        "id": "z-hZJOSzU39p",
        "colab": {
          "base_uri": "https://localhost:8080/"
        },
        "outputId": "175d4bf3-335c-4239-f676-f0dae46519d2"
      },
      "execution_count": 25,
      "outputs": [
        {
          "output_type": "stream",
          "name": "stdout",
          "text": [
            "Accuracy_Score: 0.89\n",
            "Confusion Matrix:\n",
            " [[3197    0   14    5    2   31   70    1   25    2]\n",
            " [   1 3556   20    9    2    5    4    4  130    4]\n",
            " [  18    9 2961   70    9   24   34   16  193    5]\n",
            " [  19   10   83 3022    1  142   27   16  152   21]\n",
            " [   5    8  123   17 2912   19   38   17  103   34]\n",
            " [  27    3   16   78   19 2525   96    7  194   30]\n",
            " [  13    5   28    3    5   45 3122    0   46    0]\n",
            " [   7    6  134   17    7    7    6 3269   40   48]\n",
            " [  18   20   38   53    8   92   17   10 2978   12]\n",
            " [  19   15  120   63  188  119    8  298  309 2222]]\n",
            "Classification Report:\n",
            "               precision    recall  f1-score   support\n",
            "\n",
            "           0       0.96      0.96      0.96      3347\n",
            "           1       0.98      0.95      0.97      3735\n",
            "           2       0.84      0.89      0.86      3339\n",
            "           3       0.91      0.87      0.88      3493\n",
            "           4       0.92      0.89      0.91      3276\n",
            "           5       0.84      0.84      0.84      2995\n",
            "           6       0.91      0.96      0.93      3267\n",
            "           7       0.90      0.92      0.91      3541\n",
            "           8       0.71      0.92      0.80      3246\n",
            "           9       0.93      0.66      0.77      3361\n",
            "\n",
            "    accuracy                           0.89     33600\n",
            "   macro avg       0.89      0.88      0.88     33600\n",
            "weighted avg       0.89      0.89      0.89     33600\n",
            "\n"
          ]
        }
      ]
    },
    {
      "cell_type": "code",
      "source": [
        "from sklearn.neural_network import MLPClassifier"
      ],
      "metadata": {
        "id": "pPmj--q-V0cc"
      },
      "execution_count": 27,
      "outputs": []
    },
    {
      "cell_type": "code",
      "source": [
        "mlp = MLPClassifier(hidden_layer_sizes=(64,64,64),verbose=True)"
      ],
      "metadata": {
        "id": "dBDGf7JnWLhR"
      },
      "execution_count": 29,
      "outputs": []
    },
    {
      "cell_type": "code",
      "source": [
        "mlp.fit(x_train,y_train)\n",
        "y_hat_train_mlp= mlp.predict(x_train)\n",
        "y_hat_test_mlp= mlp.predict(x_test)"
      ],
      "metadata": {
        "colab": {
          "base_uri": "https://localhost:8080/"
        },
        "id": "ncHbdus8Wrmi",
        "outputId": "28864825-c54e-4b1c-c774-20e39753c9ad"
      },
      "execution_count": 30,
      "outputs": [
        {
          "output_type": "stream",
          "name": "stdout",
          "text": [
            "Iteration 1, loss = 3.23911433\n",
            "Iteration 2, loss = 0.64759819\n",
            "Iteration 3, loss = 0.42991978\n",
            "Iteration 4, loss = 0.32232438\n",
            "Iteration 5, loss = 0.26053084\n",
            "Iteration 6, loss = 0.21425576\n",
            "Iteration 7, loss = 0.18521663\n",
            "Iteration 8, loss = 0.15825000\n",
            "Iteration 9, loss = 0.13912688\n",
            "Iteration 10, loss = 0.12480366\n",
            "Iteration 11, loss = 0.11245684\n",
            "Iteration 12, loss = 0.10749316\n",
            "Iteration 13, loss = 0.09368098\n",
            "Iteration 14, loss = 0.09134326\n",
            "Iteration 15, loss = 0.08753015\n",
            "Iteration 16, loss = 0.08488136\n",
            "Iteration 17, loss = 0.07149207\n",
            "Iteration 18, loss = 0.07864802\n",
            "Iteration 19, loss = 0.07542507\n",
            "Iteration 20, loss = 0.07719572\n",
            "Iteration 21, loss = 0.07092825\n",
            "Iteration 22, loss = 0.06359366\n",
            "Iteration 23, loss = 0.06442317\n",
            "Iteration 24, loss = 0.06632145\n",
            "Iteration 25, loss = 0.05966908\n",
            "Iteration 26, loss = 0.05669413\n",
            "Iteration 27, loss = 0.06253371\n",
            "Iteration 28, loss = 0.05977744\n",
            "Iteration 29, loss = 0.04237534\n",
            "Iteration 30, loss = 0.06276305\n",
            "Iteration 31, loss = 0.05511750\n",
            "Iteration 32, loss = 0.05307603\n",
            "Iteration 33, loss = 0.03929125\n",
            "Iteration 34, loss = 0.04203907\n",
            "Iteration 35, loss = 0.05159400\n",
            "Iteration 36, loss = 0.04751872\n",
            "Iteration 37, loss = 0.03754746\n",
            "Iteration 38, loss = 0.05041283\n",
            "Iteration 39, loss = 0.03638982\n",
            "Iteration 40, loss = 0.04618839\n",
            "Iteration 41, loss = 0.03783939\n",
            "Iteration 42, loss = 0.03151956\n",
            "Iteration 43, loss = 0.03257697\n",
            "Iteration 44, loss = 0.04516412\n",
            "Iteration 45, loss = 0.03455333\n",
            "Iteration 46, loss = 0.03715807\n",
            "Iteration 47, loss = 0.03759401\n",
            "Iteration 48, loss = 0.02657437\n",
            "Iteration 49, loss = 0.03048112\n",
            "Iteration 50, loss = 0.03852934\n",
            "Iteration 51, loss = 0.03632610\n",
            "Iteration 52, loss = 0.02454230\n",
            "Iteration 53, loss = 0.02044329\n",
            "Iteration 54, loss = 0.02153195\n",
            "Iteration 55, loss = 0.02428530\n",
            "Iteration 56, loss = 0.03060834\n",
            "Iteration 57, loss = 0.03157576\n",
            "Iteration 58, loss = 0.03068105\n",
            "Iteration 59, loss = 0.02793254\n",
            "Iteration 60, loss = 0.03192088\n",
            "Iteration 61, loss = 0.01776212\n",
            "Iteration 62, loss = 0.01178150\n",
            "Iteration 63, loss = 0.01478612\n",
            "Iteration 64, loss = 0.01934384\n",
            "Iteration 65, loss = 0.03365207\n",
            "Iteration 66, loss = 0.03174974\n",
            "Iteration 67, loss = 0.02731646\n",
            "Iteration 68, loss = 0.02544959\n",
            "Iteration 69, loss = 0.02624212\n",
            "Iteration 70, loss = 0.01886511\n",
            "Iteration 71, loss = 0.01978057\n",
            "Iteration 72, loss = 0.01726344\n",
            "Iteration 73, loss = 0.01562143\n",
            "Training loss did not improve more than tol=0.000100 for 10 consecutive epochs. Stopping.\n"
          ]
        }
      ]
    },
    {
      "cell_type": "code",
      "source": [
        "model_eval(y_test,y_hat_test_mlp)"
      ],
      "metadata": {
        "colab": {
          "base_uri": "https://localhost:8080/"
        },
        "id": "Gw6zEtbwXw-a",
        "outputId": "1eb0057b-f8c7-4934-f648-a6066e68bac7"
      },
      "execution_count": 31,
      "outputs": [
        {
          "output_type": "stream",
          "name": "stdout",
          "text": [
            "Accuracy_Score: 0.96\n",
            "Confusion Matrix:\n",
            " [[771   0   2   0   3   3   1   1   2   2]\n",
            " [  0 932   5   2   2   0   3   0   4   1]\n",
            " [  4   2 797  10   3   1   3   8   7   3]\n",
            " [  3   0  10 818   0   9   1   5   7   5]\n",
            " [  1   2   0   0 772   1   6   2   2  10]\n",
            " [  4   0   0  15   3 761   9   1   6   1]\n",
            " [ 11   1   1   0   3   4 849   0   1   0]\n",
            " [  1   1   8   1   5   2   0 836   2   4]\n",
            " [  4   2   3   6   3   5   8   2 775   9]\n",
            " [  1   0   1   5  24   5   0  16   4 771]]\n",
            "Classification Report:\n",
            "               precision    recall  f1-score   support\n",
            "\n",
            "           0       0.96      0.98      0.97       785\n",
            "           1       0.99      0.98      0.99       949\n",
            "           2       0.96      0.95      0.96       838\n",
            "           3       0.95      0.95      0.95       858\n",
            "           4       0.94      0.97      0.96       796\n",
            "           5       0.96      0.95      0.96       800\n",
            "           6       0.96      0.98      0.97       870\n",
            "           7       0.96      0.97      0.97       860\n",
            "           8       0.96      0.95      0.95       817\n",
            "           9       0.96      0.93      0.94       827\n",
            "\n",
            "    accuracy                           0.96      8400\n",
            "   macro avg       0.96      0.96      0.96      8400\n",
            "weighted avg       0.96      0.96      0.96      8400\n",
            "\n"
          ]
        }
      ]
    },
    {
      "cell_type": "code",
      "source": [
        "model_eval(y_train,y_hat_train_mlp)"
      ],
      "metadata": {
        "colab": {
          "base_uri": "https://localhost:8080/"
        },
        "id": "PKnAeYzQX5Az",
        "outputId": "e49e5de8-1cc9-46c3-d828-6d1f7e6eed4f"
      },
      "execution_count": 32,
      "outputs": [
        {
          "output_type": "stream",
          "name": "stdout",
          "text": [
            "Accuracy_Score: 1.0\n",
            "Confusion Matrix:\n",
            " [[3333    0    0    0    2    2    0    0    7    3]\n",
            " [   0 3734    0    0    1    0    0    0    0    0]\n",
            " [   6    0 3320    0    1    1    2    8    1    0]\n",
            " [   1    0    2 3477    0    1    0    0    4    8]\n",
            " [   0    0    0    0 3275    0    1    0    0    0]\n",
            " [   1    0    0    0    0 2992    1    0    1    0]\n",
            " [  11    0    0    0    3    0 3253    0    0    0]\n",
            " [   1    0    0    0    0    0    0 3540    0    0]\n",
            " [   1    0    1    1    1    0    2    0 3238    2]\n",
            " [   1    0    0    1    7    1    0   13    2 3336]]\n",
            "Classification Report:\n",
            "               precision    recall  f1-score   support\n",
            "\n",
            "           0       0.99      1.00      0.99      3347\n",
            "           1       1.00      1.00      1.00      3735\n",
            "           2       1.00      0.99      1.00      3339\n",
            "           3       1.00      1.00      1.00      3493\n",
            "           4       1.00      1.00      1.00      3276\n",
            "           5       1.00      1.00      1.00      2995\n",
            "           6       1.00      1.00      1.00      3267\n",
            "           7       0.99      1.00      1.00      3541\n",
            "           8       1.00      1.00      1.00      3246\n",
            "           9       1.00      0.99      0.99      3361\n",
            "\n",
            "    accuracy                           1.00     33600\n",
            "   macro avg       1.00      1.00      1.00     33600\n",
            "weighted avg       1.00      1.00      1.00     33600\n",
            "\n"
          ]
        }
      ]
    },
    {
      "cell_type": "markdown",
      "source": [
        "Running the code with 128 * 128 * 128 neurons\n"
      ],
      "metadata": {
        "id": "MK1Hg9Q2ZYnW"
      }
    },
    {
      "cell_type": "code",
      "source": [
        "mlp1 = MLPClassifier(hidden_layer_sizes=(128,128,128),verbose=True)"
      ],
      "metadata": {
        "id": "XDtZSeCZZShz"
      },
      "execution_count": 33,
      "outputs": []
    },
    {
      "cell_type": "code",
      "source": [
        "mlp1.fit(x_train,y_train)\n",
        "y_hat_train_mlp= mlp1.predict(x_train)\n",
        "y_hat_test_mlp= mlp1.predict(x_test)"
      ],
      "metadata": {
        "colab": {
          "base_uri": "https://localhost:8080/"
        },
        "id": "L_ejQd21ZmO9",
        "outputId": "0105c11b-8183-4ad2-ec58-5559089252e1"
      },
      "execution_count": 34,
      "outputs": [
        {
          "output_type": "stream",
          "name": "stdout",
          "text": [
            "Iteration 1, loss = 2.72586318\n",
            "Iteration 2, loss = 0.51767432\n",
            "Iteration 3, loss = 0.28850206\n",
            "Iteration 4, loss = 0.18347912\n",
            "Iteration 5, loss = 0.13477091\n",
            "Iteration 6, loss = 0.09217893\n",
            "Iteration 7, loss = 0.07021869\n",
            "Iteration 8, loss = 0.05540572\n",
            "Iteration 9, loss = 0.04550870\n",
            "Iteration 10, loss = 0.03858456\n",
            "Iteration 11, loss = 0.04260951\n",
            "Iteration 12, loss = 0.04735784\n",
            "Iteration 13, loss = 0.05854110\n",
            "Iteration 14, loss = 0.08853445\n",
            "Iteration 15, loss = 0.07840897\n",
            "Iteration 16, loss = 0.05560488\n",
            "Iteration 17, loss = 0.05131428\n",
            "Iteration 18, loss = 0.05362010\n",
            "Iteration 19, loss = 0.05201388\n",
            "Iteration 20, loss = 0.04548413\n",
            "Iteration 21, loss = 0.05396741\n",
            "Training loss did not improve more than tol=0.000100 for 10 consecutive epochs. Stopping.\n"
          ]
        }
      ]
    }
  ],
  "metadata": {
    "colab": {
      "provenance": []
    },
    "kernelspec": {
      "display_name": "Python 3",
      "name": "python3"
    },
    "language_info": {
      "name": "python"
    }
  },
  "nbformat": 4,
  "nbformat_minor": 0
}